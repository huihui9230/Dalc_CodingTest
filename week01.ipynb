{
  "nbformat": 4,
  "nbformat_minor": 0,
  "metadata": {
    "colab": {
      "name": "week01.ipynb",
      "provenance": []
    },
    "kernelspec": {
      "name": "python3",
      "display_name": "Python 3"
    }
  },
  "cells": [
    {
      "cell_type": "markdown",
      "metadata": {
        "id": "66zttg-Eft3z"
      },
      "source": [
        "p.56 루프"
      ]
    },
    {
      "cell_type": "code",
      "metadata": {
        "colab": {
          "base_uri": "https://localhost:8080/"
        },
        "id": "pKQIOFFgfsZe",
        "outputId": "5ae3329a-ecd3-4f3b-a128-514bccfe20f0"
      },
      "source": [
        "sum1 = 0\n",
        "for i in range(1, 10 + 1):\n",
        "    sum1 += i\n",
        "\n",
        "print(sum1)"
      ],
      "execution_count": 35,
      "outputs": [
        {
          "output_type": "stream",
          "text": [
            "55\n"
          ],
          "name": "stdout"
        }
      ]
    },
    {
      "cell_type": "code",
      "metadata": {
        "colab": {
          "base_uri": "https://localhost:8080/"
        },
        "id": "vgy0tX1kf9--",
        "outputId": "dff11c1b-6857-42ba-c74a-7ad79ca95855"
      },
      "source": [
        "sum2 = sum(i for i in range(1, 10 + 1))\n",
        "print(sum2)"
      ],
      "execution_count": 36,
      "outputs": [
        {
          "output_type": "stream",
          "text": [
            "55\n"
          ],
          "name": "stdout"
        }
      ]
    },
    {
      "cell_type": "code",
      "metadata": {
        "colab": {
          "base_uri": "https://localhost:8080/"
        },
        "id": "MpvlJVYEgH7U",
        "outputId": "9f70fbf7-e09d-4d2d-e614-224b0f077220"
      },
      "source": [
        "sum3 = sum(range(1, 10 + 1))\n",
        "print(sum3)"
      ],
      "execution_count": 37,
      "outputs": [
        {
          "output_type": "stream",
          "text": [
            "55\n"
          ],
          "name": "stdout"
        }
      ]
    },
    {
      "cell_type": "markdown",
      "metadata": {
        "id": "NXDAZoyNf3kL"
      },
      "source": [
        "p.58 제네릭 프로그램\n"
      ]
    },
    {
      "cell_type": "code",
      "metadata": {
        "colab": {
          "base_uri": "https://localhost:8080/"
        },
        "id": "_KcpJizmgO4R",
        "outputId": "9b5e6649-84fe-44b4-ce5e-9c1da436c189"
      },
      "source": [
        "def are_equal(a,b):\n",
        "  return a==b\n",
        "\n",
        "are_equal(10, 10.0)"
      ],
      "execution_count": 38,
      "outputs": [
        {
          "output_type": "execute_result",
          "data": {
            "text/plain": [
              "True"
            ]
          },
          "metadata": {
            "tags": []
          },
          "execution_count": 38
        }
      ]
    },
    {
      "cell_type": "code",
      "metadata": {
        "colab": {
          "base_uri": "https://localhost:8080/"
        },
        "id": "3IcoRriDgTdf",
        "outputId": "64b4cc8a-84fc-4c26-a035-b118e6ce8439"
      },
      "source": [
        "from typing import TypeVar\n",
        "\n",
        "T = TypeVar('T')\n",
        "U = TypeVar('U')\n",
        "\n",
        "def are_equal(a: T, b: U) -> bool:\n",
        "    return a == b\n",
        "\n",
        "are_equal(10, 10.0)"
      ],
      "execution_count": 39,
      "outputs": [
        {
          "output_type": "execute_result",
          "data": {
            "text/plain": [
              "True"
            ]
          },
          "metadata": {
            "tags": []
          },
          "execution_count": 39
        }
      ]
    },
    {
      "cell_type": "markdown",
      "metadata": {
        "id": "ykp652yFgV3f"
      },
      "source": [
        "p.60 배열 반복\n"
      ]
    },
    {
      "cell_type": "code",
      "metadata": {
        "colab": {
          "base_uri": "https://localhost:8080/"
        },
        "id": "VuJQuOgugcEC",
        "outputId": "f1f471cd-578c-4c43-c19c-3b0bc812b395"
      },
      "source": [
        "foo = ['A', 'B', 'C']\n",
        "for f in foo:\n",
        "  print(f)"
      ],
      "execution_count": 40,
      "outputs": [
        {
          "output_type": "stream",
          "text": [
            "A\n",
            "B\n",
            "C\n"
          ],
          "name": "stdout"
        }
      ]
    },
    {
      "cell_type": "markdown",
      "metadata": {
        "id": "AjVs4r1IgkUs"
      },
      "source": [
        "pp.61-62 구조체"
      ]
    },
    {
      "cell_type": "code",
      "metadata": {
        "colab": {
          "base_uri": "https://localhost:8080/"
        },
        "id": "SzvPuGQPgjxA",
        "outputId": "e75d4748-2704-4101-bacd-746ff6a18a62"
      },
      "source": [
        "from collections import namedtuple\n",
        "\n",
        "MyStruct = namedtuple(\"MyStruct\", \"field1 field2 field3\")\n",
        "m = MyStruct(\"foo\", \"bar\", \"baz\")\n",
        "\n",
        "print(m)"
      ],
      "execution_count": 41,
      "outputs": [
        {
          "output_type": "stream",
          "text": [
            "MyStruct(field1='foo', field2='bar', field3='baz')\n"
          ],
          "name": "stdout"
        }
      ]
    },
    {
      "cell_type": "code",
      "metadata": {
        "colab": {
          "base_uri": "https://localhost:8080/"
        },
        "id": "6nK-vJHIgxJR",
        "outputId": "59f1c20d-db6c-4516-ca3b-85c853ae718b"
      },
      "source": [
        "#파이썬(Python) 3.7+\n",
        "from dataclasses import dataclass\n",
        "\n",
        "@dataclass\n",
        "class Product:\n",
        "    weight: int = None\n",
        "    price: float = None\n",
        "\n",
        "apple = Product()\n",
        "apple.price = 10\n",
        "\n",
        "print(apple)"
      ],
      "execution_count": 42,
      "outputs": [
        {
          "output_type": "stream",
          "text": [
            "Product(weight=None, price=10)\n"
          ],
          "name": "stdout"
        }
      ]
    },
    {
      "cell_type": "markdown",
      "metadata": {
        "id": "MtWuyOU3g3Ka"
      },
      "source": [
        "pp.64-65 클래스"
      ]
    },
    {
      "cell_type": "code",
      "metadata": {
        "colab": {
          "base_uri": "https://localhost:8080/"
        },
        "id": "mnGlKIDWg2l3",
        "outputId": "c8ae238e-72de-4b65-d86f-d0943d2a24a3"
      },
      "source": [
        "from dataclasses import dataclass\n",
        "\n",
        "@dataclass\n",
        "class Rectangle:\n",
        "    width: int\n",
        "    height: int\n",
        "    def area(self):\n",
        "        return self.width * self.height\n",
        "\n",
        "rect = Rectangle(3, 4)\n",
        "print(rect.area())"
      ],
      "execution_count": 43,
      "outputs": [
        {
          "output_type": "stream",
          "text": [
            "12\n"
          ],
          "name": "stdout"
        }
      ]
    },
    {
      "cell_type": "markdown",
      "metadata": {
        "id": "LG4pjPmQhFkc"
      },
      "source": [
        "pp.76-77 인덴트\n"
      ]
    },
    {
      "cell_type": "code",
      "metadata": {
        "id": "YWGAZBzPhKkN"
      },
      "source": [
        "def long_function_name(\n",
        "    var_one, var_two, var_three,\n",
        "    var_four):\n",
        "    print(var_one)"
      ],
      "execution_count": 44,
      "outputs": []
    },
    {
      "cell_type": "markdown",
      "metadata": {
        "id": "9504Za2wiXHk"
      },
      "source": [
        "pp.80-81 리스트 컴프리헨션 (List Comprehension)"
      ]
    },
    {
      "cell_type": "code",
      "metadata": {
        "colab": {
          "base_uri": "https://localhost:8080/"
        },
        "id": "owtwxGteidLA",
        "outputId": "bd6691c7-76c3-4961-ac82-5933f14a3eaa"
      },
      "source": [
        "list(map(lambda x: x +10, [1,2,3]))"
      ],
      "execution_count": 45,
      "outputs": [
        {
          "output_type": "execute_result",
          "data": {
            "text/plain": [
              "[11, 12, 13]"
            ]
          },
          "metadata": {
            "tags": []
          },
          "execution_count": 45
        }
      ]
    },
    {
      "cell_type": "code",
      "metadata": {
        "colab": {
          "base_uri": "https://localhost:8080/"
        },
        "id": "fvzfiStKilHz",
        "outputId": "4906c9dc-b854-45d4-ea13-1b63fe55a571"
      },
      "source": [
        "[n*2 for n in range(0,10) if n%2 ==1]"
      ],
      "execution_count": 46,
      "outputs": [
        {
          "output_type": "execute_result",
          "data": {
            "text/plain": [
              "[2, 6, 10, 14, 18]"
            ]
          },
          "metadata": {
            "tags": []
          },
          "execution_count": 46
        }
      ]
    },
    {
      "cell_type": "code",
      "metadata": {
        "colab": {
          "base_uri": "https://localhost:8080/"
        },
        "id": "V-IXfQ2_in5w",
        "outputId": "cabcb0f3-1b9e-4b8d-8c95-c3f57c2ff534"
      },
      "source": [
        "a=[]\n",
        "for n in range(0,10):\n",
        "  if n % 2 == 1:\n",
        "    a.append(n*2)\n",
        "\n",
        "print(a)"
      ],
      "execution_count": 47,
      "outputs": [
        {
          "output_type": "stream",
          "text": [
            "[2, 6, 10, 14, 18]\n"
          ],
          "name": "stdout"
        }
      ]
    },
    {
      "cell_type": "code",
      "metadata": {
        "colab": {
          "base_uri": "https://localhost:8080/",
          "height": 164
        },
        "id": "RRID2mNhi1-p",
        "outputId": "9840cfc8-d408-4985-cfb6-47abc36e896c"
      },
      "source": [
        "a2 ={key: value for key, value in original.items()}"
      ],
      "execution_count": 49,
      "outputs": [
        {
          "output_type": "error",
          "ename": "NameError",
          "evalue": "ignored",
          "traceback": [
            "\u001b[0;31m---------------------------------------------------------------------------\u001b[0m",
            "\u001b[0;31mNameError\u001b[0m                                 Traceback (most recent call last)",
            "\u001b[0;32m<ipython-input-49-82756a11f909>\u001b[0m in \u001b[0;36m<module>\u001b[0;34m()\u001b[0m\n\u001b[0;32m----> 1\u001b[0;31m \u001b[0ma2\u001b[0m \u001b[0;34m=\u001b[0m\u001b[0;34m{\u001b[0m\u001b[0mkey\u001b[0m\u001b[0;34m:\u001b[0m \u001b[0mvalue\u001b[0m \u001b[0;32mfor\u001b[0m \u001b[0mkey\u001b[0m\u001b[0;34m,\u001b[0m \u001b[0mvalue\u001b[0m \u001b[0;32min\u001b[0m \u001b[0moriginal\u001b[0m\u001b[0;34m.\u001b[0m\u001b[0mitems\u001b[0m\u001b[0;34m(\u001b[0m\u001b[0;34m)\u001b[0m\u001b[0;34m}\u001b[0m\u001b[0;34m\u001b[0m\u001b[0;34m\u001b[0m\u001b[0m\n\u001b[0m",
            "\u001b[0;31mNameError\u001b[0m: name 'original' is not defined"
          ]
        }
      ]
    },
    {
      "cell_type": "markdown",
      "metadata": {
        "id": "2gElmWOLi4OR"
      },
      "source": [
        "pp.82-83 제너레이터"
      ]
    },
    {
      "cell_type": "code",
      "metadata": {
        "colab": {
          "base_uri": "https://localhost:8080/"
        },
        "id": "WmqYKnfXi3vh",
        "outputId": "e5a59fab-ba52-49fc-f5e5-95a8d29e4e89"
      },
      "source": [
        "def get_natural_number():\n",
        "    n = 0\n",
        "    while True:\n",
        "        n += 1\n",
        "        yield n\n",
        "\n",
        "get_natural_number()"
      ],
      "execution_count": 50,
      "outputs": [
        {
          "output_type": "execute_result",
          "data": {
            "text/plain": [
              "<generator object get_natural_number at 0x7f79250dee50>"
            ]
          },
          "metadata": {
            "tags": []
          },
          "execution_count": 50
        }
      ]
    },
    {
      "cell_type": "code",
      "metadata": {
        "colab": {
          "base_uri": "https://localhost:8080/"
        },
        "id": "U8HkRtW8zEan",
        "outputId": "cca2dcab-541a-4ab5-88dc-ab4376f623e9"
      },
      "source": [
        "g = get_natural_number()\n",
        "for _ in range(0,100):\n",
        "    print(next(g))"
      ],
      "execution_count": 51,
      "outputs": [
        {
          "output_type": "stream",
          "text": [
            "1\n",
            "2\n",
            "3\n",
            "4\n",
            "5\n",
            "6\n",
            "7\n",
            "8\n",
            "9\n",
            "10\n",
            "11\n",
            "12\n",
            "13\n",
            "14\n",
            "15\n",
            "16\n",
            "17\n",
            "18\n",
            "19\n",
            "20\n",
            "21\n",
            "22\n",
            "23\n",
            "24\n",
            "25\n",
            "26\n",
            "27\n",
            "28\n",
            "29\n",
            "30\n",
            "31\n",
            "32\n",
            "33\n",
            "34\n",
            "35\n",
            "36\n",
            "37\n",
            "38\n",
            "39\n",
            "40\n",
            "41\n",
            "42\n",
            "43\n",
            "44\n",
            "45\n",
            "46\n",
            "47\n",
            "48\n",
            "49\n",
            "50\n",
            "51\n",
            "52\n",
            "53\n",
            "54\n",
            "55\n",
            "56\n",
            "57\n",
            "58\n",
            "59\n",
            "60\n",
            "61\n",
            "62\n",
            "63\n",
            "64\n",
            "65\n",
            "66\n",
            "67\n",
            "68\n",
            "69\n",
            "70\n",
            "71\n",
            "72\n",
            "73\n",
            "74\n",
            "75\n",
            "76\n",
            "77\n",
            "78\n",
            "79\n",
            "80\n",
            "81\n",
            "82\n",
            "83\n",
            "84\n",
            "85\n",
            "86\n",
            "87\n",
            "88\n",
            "89\n",
            "90\n",
            "91\n",
            "92\n",
            "93\n",
            "94\n",
            "95\n",
            "96\n",
            "97\n",
            "98\n",
            "99\n",
            "100\n"
          ],
          "name": "stdout"
        }
      ]
    },
    {
      "cell_type": "code",
      "metadata": {
        "colab": {
          "base_uri": "https://localhost:8080/"
        },
        "id": "r80g1GhHzEOp",
        "outputId": "4d0110b5-b8b3-4a4e-9a3b-2a237d8949c0"
      },
      "source": [
        "def generator():\n",
        "    yield 1\n",
        "    yield 'string'\n",
        "    yield True\n",
        "g = generator()\n",
        "print(g)"
      ],
      "execution_count": 52,
      "outputs": [
        {
          "output_type": "stream",
          "text": [
            "<generator object generator at 0x7f79251bed50>\n"
          ],
          "name": "stdout"
        }
      ]
    },
    {
      "cell_type": "code",
      "metadata": {
        "colab": {
          "base_uri": "https://localhost:8080/"
        },
        "id": "DUoFJhyjzHn8",
        "outputId": "137ffeef-cde4-4978-9d70-2c69df45c155"
      },
      "source": [
        "next(g)"
      ],
      "execution_count": 53,
      "outputs": [
        {
          "output_type": "execute_result",
          "data": {
            "text/plain": [
              "1"
            ]
          },
          "metadata": {
            "tags": []
          },
          "execution_count": 53
        }
      ]
    },
    {
      "cell_type": "code",
      "metadata": {
        "colab": {
          "base_uri": "https://localhost:8080/",
          "height": 37
        },
        "id": "F3gqpWONzjeO",
        "outputId": "3502da57-e000-4900-c68a-9cf78ba02f6d"
      },
      "source": [
        "next(g)"
      ],
      "execution_count": 54,
      "outputs": [
        {
          "output_type": "execute_result",
          "data": {
            "application/vnd.google.colaboratory.intrinsic+json": {
              "type": "string"
            },
            "text/plain": [
              "'string'"
            ]
          },
          "metadata": {
            "tags": []
          },
          "execution_count": 54
        }
      ]
    },
    {
      "cell_type": "code",
      "metadata": {
        "colab": {
          "base_uri": "https://localhost:8080/"
        },
        "id": "zPKyy2-rzj18",
        "outputId": "e787a9bf-0d9c-4fa3-d828-09917eba66fd"
      },
      "source": [
        "next(g)"
      ],
      "execution_count": 55,
      "outputs": [
        {
          "output_type": "execute_result",
          "data": {
            "text/plain": [
              "True"
            ]
          },
          "metadata": {
            "tags": []
          },
          "execution_count": 55
        }
      ]
    },
    {
      "cell_type": "markdown",
      "metadata": {
        "id": "LE8p91UczmKf"
      },
      "source": [
        "pp.83-84 range"
      ]
    },
    {
      "cell_type": "code",
      "metadata": {
        "colab": {
          "base_uri": "https://localhost:8080/"
        },
        "id": "wnSfbAQAzqoy",
        "outputId": "1d908983-c74b-4e0e-d2d5-205980868eeb"
      },
      "source": [
        "list(range(5))"
      ],
      "execution_count": 56,
      "outputs": [
        {
          "output_type": "execute_result",
          "data": {
            "text/plain": [
              "[0, 1, 2, 3, 4]"
            ]
          },
          "metadata": {
            "tags": []
          },
          "execution_count": 56
        }
      ]
    },
    {
      "cell_type": "code",
      "metadata": {
        "colab": {
          "base_uri": "https://localhost:8080/"
        },
        "id": "MciSD1Xtzs11",
        "outputId": "21fcf1de-476f-4eaa-927b-91808560bc92"
      },
      "source": [
        "range(5)"
      ],
      "execution_count": 57,
      "outputs": [
        {
          "output_type": "execute_result",
          "data": {
            "text/plain": [
              "range(0, 5)"
            ]
          },
          "metadata": {
            "tags": []
          },
          "execution_count": 57
        }
      ]
    },
    {
      "cell_type": "code",
      "metadata": {
        "colab": {
          "base_uri": "https://localhost:8080/"
        },
        "id": "ryLm0Q_dzwIy",
        "outputId": "24244729-2c13-4d0f-b177-6d70ee6e3f21"
      },
      "source": [
        "type(range(5))"
      ],
      "execution_count": 58,
      "outputs": [
        {
          "output_type": "execute_result",
          "data": {
            "text/plain": [
              "range"
            ]
          },
          "metadata": {
            "tags": []
          },
          "execution_count": 58
        }
      ]
    },
    {
      "cell_type": "code",
      "metadata": {
        "colab": {
          "base_uri": "https://localhost:8080/"
        },
        "id": "2SL2GYnBzxtM",
        "outputId": "cd86cd05-6e0f-4c15-d763-763fb64d84df"
      },
      "source": [
        "for i in range(5):\n",
        "    print(i, end= '')"
      ],
      "execution_count": 59,
      "outputs": [
        {
          "output_type": "stream",
          "text": [
            "01234"
          ],
          "name": "stdout"
        }
      ]
    },
    {
      "cell_type": "code",
      "metadata": {
        "id": "HisTLr5vz0dz"
      },
      "source": [
        "a = [n for n in range(1000000)]\n",
        "b = range(1000000)"
      ],
      "execution_count": 60,
      "outputs": []
    },
    {
      "cell_type": "code",
      "metadata": {
        "colab": {
          "base_uri": "https://localhost:8080/"
        },
        "id": "ljtLfG7K0BUK",
        "outputId": "9a9a015b-f1a8-49b8-e967-5b28803f389e"
      },
      "source": [
        "len(a)"
      ],
      "execution_count": 61,
      "outputs": [
        {
          "output_type": "execute_result",
          "data": {
            "text/plain": [
              "1000000"
            ]
          },
          "metadata": {
            "tags": []
          },
          "execution_count": 61
        }
      ]
    },
    {
      "cell_type": "code",
      "metadata": {
        "colab": {
          "base_uri": "https://localhost:8080/"
        },
        "id": "z2hh2v800DVe",
        "outputId": "86785f3d-aeba-4887-8be2-62b009b4b6eb"
      },
      "source": [
        "len(b)"
      ],
      "execution_count": 62,
      "outputs": [
        {
          "output_type": "execute_result",
          "data": {
            "text/plain": [
              "1000000"
            ]
          },
          "metadata": {
            "tags": []
          },
          "execution_count": 62
        }
      ]
    },
    {
      "cell_type": "code",
      "metadata": {
        "colab": {
          "base_uri": "https://localhost:8080/"
        },
        "id": "PwCWBTqX0Epw",
        "outputId": "61402058-6df6-453a-b9e6-51331dc3dfb6"
      },
      "source": [
        "len(a) == len(b)"
      ],
      "execution_count": 63,
      "outputs": [
        {
          "output_type": "execute_result",
          "data": {
            "text/plain": [
              "True"
            ]
          },
          "metadata": {
            "tags": []
          },
          "execution_count": 63
        }
      ]
    },
    {
      "cell_type": "code",
      "metadata": {
        "colab": {
          "base_uri": "https://localhost:8080/"
        },
        "id": "gJZohyv90OYg",
        "outputId": "5c6e214f-6544-4c8b-b526-944b565cbd43"
      },
      "source": [
        "b"
      ],
      "execution_count": 64,
      "outputs": [
        {
          "output_type": "execute_result",
          "data": {
            "text/plain": [
              "range(0, 1000000)"
            ]
          },
          "metadata": {
            "tags": []
          },
          "execution_count": 64
        }
      ]
    },
    {
      "cell_type": "code",
      "metadata": {
        "colab": {
          "base_uri": "https://localhost:8080/"
        },
        "id": "YEWmeJQp0QPS",
        "outputId": "30c06d09-531d-4a21-8208-ee3798782551"
      },
      "source": [
        "type(b)"
      ],
      "execution_count": 65,
      "outputs": [
        {
          "output_type": "execute_result",
          "data": {
            "text/plain": [
              "range"
            ]
          },
          "metadata": {
            "tags": []
          },
          "execution_count": 65
        }
      ]
    },
    {
      "cell_type": "code",
      "metadata": {
        "colab": {
          "base_uri": "https://localhost:8080/"
        },
        "id": "DSbhhxl-0gBG",
        "outputId": "d3fec791-2dba-46da-f463-1cf7e1c39012"
      },
      "source": [
        "import sys\n",
        "sys.getsizeof(a)"
      ],
      "execution_count": 67,
      "outputs": [
        {
          "output_type": "execute_result",
          "data": {
            "text/plain": [
              "8697472"
            ]
          },
          "metadata": {
            "tags": []
          },
          "execution_count": 67
        }
      ]
    },
    {
      "cell_type": "code",
      "metadata": {
        "colab": {
          "base_uri": "https://localhost:8080/"
        },
        "id": "fKKb3lWw0ms9",
        "outputId": "e0608d3b-f9d5-4b65-ff46-923d28740ff1"
      },
      "source": [
        "sys.getsizeof(b)"
      ],
      "execution_count": 68,
      "outputs": [
        {
          "output_type": "execute_result",
          "data": {
            "text/plain": [
              "48"
            ]
          },
          "metadata": {
            "tags": []
          },
          "execution_count": 68
        }
      ]
    },
    {
      "cell_type": "code",
      "metadata": {
        "colab": {
          "base_uri": "https://localhost:8080/"
        },
        "id": "uMZtyY800sOV",
        "outputId": "1d8ded4c-6a6f-41eb-eddd-245c93bbda51"
      },
      "source": [
        "b[999]"
      ],
      "execution_count": 70,
      "outputs": [
        {
          "output_type": "execute_result",
          "data": {
            "text/plain": [
              "999"
            ]
          },
          "metadata": {
            "tags": []
          },
          "execution_count": 70
        }
      ]
    },
    {
      "cell_type": "markdown",
      "metadata": {
        "id": "B0esd90D0uFX"
      },
      "source": [
        "p.85 enumerate"
      ]
    },
    {
      "cell_type": "code",
      "metadata": {
        "colab": {
          "base_uri": "https://localhost:8080/"
        },
        "id": "bcazz-At0tx0",
        "outputId": "a07845c4-f9b6-498b-e3d4-cac3d0cdec41"
      },
      "source": [
        "a = [1,2,3,2,45,2,5]\n",
        "a"
      ],
      "execution_count": 69,
      "outputs": [
        {
          "output_type": "stream",
          "text": [
            "[1, 2, 3, 2, 45, 2, 5]\n"
          ],
          "name": "stdout"
        }
      ]
    },
    {
      "cell_type": "code",
      "metadata": {
        "colab": {
          "base_uri": "https://localhost:8080/"
        },
        "id": "3oKmf9HL00bw",
        "outputId": "f8c6b902-d47a-4896-faea-f8c9701cacbf"
      },
      "source": [
        "enumerate(a)"
      ],
      "execution_count": 71,
      "outputs": [
        {
          "output_type": "execute_result",
          "data": {
            "text/plain": [
              "<enumerate at 0x7f791e9de0f0>"
            ]
          },
          "metadata": {
            "tags": []
          },
          "execution_count": 71
        }
      ]
    },
    {
      "cell_type": "code",
      "metadata": {
        "colab": {
          "base_uri": "https://localhost:8080/"
        },
        "id": "Z6akT1cG04PS",
        "outputId": "fc109205-0382-4d17-e8dc-580e73746164"
      },
      "source": [
        "list(enumerate(a))"
      ],
      "execution_count": 73,
      "outputs": [
        {
          "output_type": "execute_result",
          "data": {
            "text/plain": [
              "[(0, 1), (1, 2), (2, 3), (3, 2), (4, 45), (5, 2), (6, 5)]"
            ]
          },
          "metadata": {
            "tags": []
          },
          "execution_count": 73
        }
      ]
    },
    {
      "cell_type": "code",
      "metadata": {
        "colab": {
          "base_uri": "https://localhost:8080/"
        },
        "id": "DjW3WZvN0641",
        "outputId": "184583b9-615f-4323-bf83-e030d8a72333"
      },
      "source": [
        "a = ['a1', 'b2', 'c3']\n",
        "for i in range(len(a)):\n",
        "    print(i, a[i])"
      ],
      "execution_count": 76,
      "outputs": [
        {
          "output_type": "stream",
          "text": [
            "0 a1\n",
            "1 b2\n",
            "2 c3\n"
          ],
          "name": "stdout"
        }
      ]
    },
    {
      "cell_type": "markdown",
      "metadata": {
        "id": "SD-aj_tl0_OE"
      },
      "source": [
        "pp.86-87 나눗셈 연산자"
      ]
    },
    {
      "cell_type": "code",
      "metadata": {
        "colab": {
          "base_uri": "https://localhost:8080/"
        },
        "id": "tlB6hf_v1JLK",
        "outputId": "35830bd9-ae4b-4201-8729-5140736627f1"
      },
      "source": [
        "#파이썬 3+\n",
        "5/3"
      ],
      "execution_count": 77,
      "outputs": [
        {
          "output_type": "execute_result",
          "data": {
            "text/plain": [
              "1.6666666666666667"
            ]
          },
          "metadata": {
            "tags": []
          },
          "execution_count": 77
        }
      ]
    },
    {
      "cell_type": "code",
      "metadata": {
        "colab": {
          "base_uri": "https://localhost:8080/"
        },
        "id": "7EmhAPDJ1L0O",
        "outputId": "fe87aea9-6438-4916-eccc-29b97aa8c23c"
      },
      "source": [
        "type(5/3)"
      ],
      "execution_count": 78,
      "outputs": [
        {
          "output_type": "execute_result",
          "data": {
            "text/plain": [
              "float"
            ]
          },
          "metadata": {
            "tags": []
          },
          "execution_count": 78
        }
      ]
    },
    {
      "cell_type": "code",
      "metadata": {
        "colab": {
          "base_uri": "https://localhost:8080/"
        },
        "id": "1Ixk0r1l1NJ_",
        "outputId": "b8109306-0493-4593-aa04-d39425c8dea5"
      },
      "source": [
        "int(5/3)"
      ],
      "execution_count": 79,
      "outputs": [
        {
          "output_type": "execute_result",
          "data": {
            "text/plain": [
              "1"
            ]
          },
          "metadata": {
            "tags": []
          },
          "execution_count": 79
        }
      ]
    },
    {
      "cell_type": "code",
      "metadata": {
        "colab": {
          "base_uri": "https://localhost:8080/"
        },
        "id": "azdjCrYm1Oxi",
        "outputId": "0ff7207f-43d0-4516-ead9-7841c6c1b5a4"
      },
      "source": [
        "type(int(5/3))"
      ],
      "execution_count": 80,
      "outputs": [
        {
          "output_type": "execute_result",
          "data": {
            "text/plain": [
              "int"
            ]
          },
          "metadata": {
            "tags": []
          },
          "execution_count": 80
        }
      ]
    },
    {
      "cell_type": "code",
      "metadata": {
        "colab": {
          "base_uri": "https://localhost:8080/"
        },
        "id": "bl_vrxPX1Pw0",
        "outputId": "881c2add-f2b5-41a4-a598-c1d32af9192c"
      },
      "source": [
        "5%3"
      ],
      "execution_count": 81,
      "outputs": [
        {
          "output_type": "execute_result",
          "data": {
            "text/plain": [
              "2"
            ]
          },
          "metadata": {
            "tags": []
          },
          "execution_count": 81
        }
      ]
    },
    {
      "cell_type": "code",
      "metadata": {
        "colab": {
          "base_uri": "https://localhost:8080/"
        },
        "id": "xLAVB7lV1Qpb",
        "outputId": "04f7bdfc-7779-4ee7-fa53-52dd7266214d"
      },
      "source": [
        "divmod(5,3)"
      ],
      "execution_count": 82,
      "outputs": [
        {
          "output_type": "execute_result",
          "data": {
            "text/plain": [
              "(1, 2)"
            ]
          },
          "metadata": {
            "tags": []
          },
          "execution_count": 82
        }
      ]
    },
    {
      "cell_type": "markdown",
      "metadata": {
        "id": "k0-2xs841SWO"
      },
      "source": [
        "pp.87-88 print"
      ]
    },
    {
      "cell_type": "code",
      "metadata": {
        "colab": {
          "base_uri": "https://localhost:8080/"
        },
        "id": "I6I77Hej1Ux6",
        "outputId": "9ad3e534-f1b3-47a4-df35-4a7d181571ee"
      },
      "source": [
        "print('A1', 'B2')"
      ],
      "execution_count": 83,
      "outputs": [
        {
          "output_type": "stream",
          "text": [
            "A1 B2\n"
          ],
          "name": "stdout"
        }
      ]
    },
    {
      "cell_type": "code",
      "metadata": {
        "colab": {
          "base_uri": "https://localhost:8080/"
        },
        "id": "CuJGR37N1Wze",
        "outputId": "0cb3489e-0511-43a6-b065-37fe49ac33f6"
      },
      "source": [
        "print('A1', 'B2', sep = ',')"
      ],
      "execution_count": 84,
      "outputs": [
        {
          "output_type": "stream",
          "text": [
            "A1,B2\n"
          ],
          "name": "stdout"
        }
      ]
    },
    {
      "cell_type": "code",
      "metadata": {
        "colab": {
          "base_uri": "https://localhost:8080/"
        },
        "id": "1Naoms9m1YdM",
        "outputId": "abeaf7f1-eb8b-43e8-8056-3e1bc54a991a"
      },
      "source": [
        "print('aa', end = ' ')\n",
        "print('bb')"
      ],
      "execution_count": 85,
      "outputs": [
        {
          "output_type": "stream",
          "text": [
            "aa bb\n"
          ],
          "name": "stdout"
        }
      ]
    },
    {
      "cell_type": "code",
      "metadata": {
        "colab": {
          "base_uri": "https://localhost:8080/"
        },
        "id": "CvZwRzFw1bJ8",
        "outputId": "6ad53df7-7064-404b-d67f-bc648257476f"
      },
      "source": [
        "a = ['A', 'B']\n",
        "print(' '.join(a))"
      ],
      "execution_count": 86,
      "outputs": [
        {
          "output_type": "stream",
          "text": [
            "A B\n"
          ],
          "name": "stdout"
        }
      ]
    },
    {
      "cell_type": "code",
      "metadata": {
        "id": "C2B-7dd01ceV"
      },
      "source": [
        "idx = 1\n",
        "fruit = \"Apple\""
      ],
      "execution_count": 87,
      "outputs": []
    },
    {
      "cell_type": "code",
      "metadata": {
        "colab": {
          "base_uri": "https://localhost:8080/"
        },
        "id": "XH88PvfC1dpN",
        "outputId": "a96b3fb5-84ff-46d5-ebb6-cd056f1e9894"
      },
      "source": [
        "print('{0}: {1}'.format(idx + 1, fruit))"
      ],
      "execution_count": 88,
      "outputs": [
        {
          "output_type": "stream",
          "text": [
            "2: Apple\n"
          ],
          "name": "stdout"
        }
      ]
    },
    {
      "cell_type": "code",
      "metadata": {
        "colab": {
          "base_uri": "https://localhost:8080/"
        },
        "id": "E6aEmetM1fGY",
        "outputId": "ef0aaea4-b9d9-4a6d-d49b-50962cc64d5f"
      },
      "source": [
        "print('{}: {}'.format(idx + 1, fruit))"
      ],
      "execution_count": 89,
      "outputs": [
        {
          "output_type": "stream",
          "text": [
            "2: Apple\n"
          ],
          "name": "stdout"
        }
      ]
    },
    {
      "cell_type": "code",
      "metadata": {
        "colab": {
          "base_uri": "https://localhost:8080/"
        },
        "id": "N2tjhArH1gR-",
        "outputId": "ef5e68bf-6c55-4ff5-cfbf-ab33906c9ec8"
      },
      "source": [
        "# 파이썬 3.6+\n",
        "print(f'{idx + 1}: {fruit}')"
      ],
      "execution_count": 90,
      "outputs": [
        {
          "output_type": "stream",
          "text": [
            "2: Apple\n"
          ],
          "name": "stdout"
        }
      ]
    },
    {
      "cell_type": "markdown",
      "metadata": {
        "id": "0NlpFnG31i31"
      },
      "source": [
        "p.89 pass"
      ]
    },
    {
      "cell_type": "code",
      "metadata": {
        "colab": {
          "base_uri": "https://localhost:8080/",
          "height": 130
        },
        "id": "WHaShZa61iX7",
        "outputId": "32f55d33-aef6-4230-ea84-3c29baf613ea"
      },
      "source": [
        "class MyClass(object):\n",
        "    def method_a(self):\n",
        "\n",
        "    def method_b(self):\n",
        "        print(\"Method B\")\n",
        "\n",
        "c = MyClass()"
      ],
      "execution_count": 91,
      "outputs": [
        {
          "output_type": "error",
          "ename": "IndentationError",
          "evalue": "ignored",
          "traceback": [
            "\u001b[0;36m  File \u001b[0;32m\"<ipython-input-91-3dc6be95ef7a>\"\u001b[0;36m, line \u001b[0;32m4\u001b[0m\n\u001b[0;31m    def method_b(self):\u001b[0m\n\u001b[0m      ^\u001b[0m\n\u001b[0;31mIndentationError\u001b[0m\u001b[0;31m:\u001b[0m expected an indented block\n"
          ]
        }
      ]
    },
    {
      "cell_type": "code",
      "metadata": {
        "id": "arAASAmv1seA"
      },
      "source": [
        "class MyClass(object):\n",
        "    def method_a(self):\n",
        "        # 여기에 pass 추가\n",
        "        pass\n",
        "\n",
        "    def method_b(self):\n",
        "        print(\"Method B\")\n",
        "\n",
        "c = MyClass()"
      ],
      "execution_count": 92,
      "outputs": []
    },
    {
      "cell_type": "markdown",
      "metadata": {
        "id": "OG5TiuMZ1uaq"
      },
      "source": [
        "p.90 locals"
      ]
    },
    {
      "cell_type": "code",
      "metadata": {
        "colab": {
          "base_uri": "https://localhost:8080/"
        },
        "id": "0kYt0H6u1xL3",
        "outputId": "c6b8d118-6873-4a82-cc5a-ba20a8a50524"
      },
      "source": [
        "import pprint\n",
        "pprint.pprint(locals())"
      ],
      "execution_count": 93,
      "outputs": [
        {
          "output_type": "stream",
          "text": [
            "{'In': ['',\n",
            "        'sum1 = 0\\nfor i in range(1, 10 + 1):\\n    sum1 += i\\n\\nprint(sum1)',\n",
            "        'sum2 = sum(i for i in range(1, 10 + 1))\\nprint(sum2)',\n",
            "        'sum3 = sum(range(1, 10 + 1))\\nprint(sum3)',\n",
            "        'def are_equal(a,b):\\n  return a==b\\n\\nare_equal(10, 10.0)',\n",
            "        'from typing import TypeVar\\n'\n",
            "        '\\n'\n",
            "        \"T = TypeVar('T')\\n\"\n",
            "        \"U = TypeVar('U')\\n\"\n",
            "        '\\n'\n",
            "        'def are_equal(a: T, b: U) -> bool:\\n'\n",
            "        '    return a == b\\n'\n",
            "        '\\n'\n",
            "        'are_equal(10, 10.0)',\n",
            "        \"foo = ['A', 'B', 'C']\\nfor f in foo:\\n  print(f)\",\n",
            "        'from collections import namedtuple\\n'\n",
            "        '\\n'\n",
            "        'MyStruct = namedtuple(\"MyStruct\", \"field1 field2 field3\")\\n'\n",
            "        'm = MyStruct(\"foo\", \"bar\", \"baz\")\\n'\n",
            "        '\\n'\n",
            "        'print(m)',\n",
            "        '#파이썬(Python) 3.7+\\n'\n",
            "        'from dataclasses import dataclass\\n'\n",
            "        '\\n'\n",
            "        '@dataclass\\n'\n",
            "        'class Product:\\n'\n",
            "        '    weight: int = None\\n'\n",
            "        '    price: float = None\\n'\n",
            "        '\\n'\n",
            "        'apple = Product()\\n'\n",
            "        'apple.price = 10\\n'\n",
            "        '\\n'\n",
            "        'print(apple)',\n",
            "        'from dataclasses import dataclass\\n'\n",
            "        '\\n'\n",
            "        '@dataclass\\n'\n",
            "        'class Rectangle:\\n'\n",
            "        '    width: int\\n'\n",
            "        '    height: int\\n'\n",
            "        '    def area(self):\\n'\n",
            "        '        return self.width * self.height\\n'\n",
            "        '\\n'\n",
            "        'rect = Rectangle(3, 4)\\n'\n",
            "        'print(rect.area())',\n",
            "        'foo = long_function_name(var_one, var_two\\n'\n",
            "        '                         var_three, var_four)',\n",
            "        'foo = long_function_name(var_one, var_two,\\n'\n",
            "        '                         var_three, var_four)',\n",
            "        'def lonng_function(\\n'\n",
            "        '    var_one, var_two, var_three,\\n'\n",
            "        '    var_four):\\n'\n",
            "        '  print(var_one)\\n'\n",
            "        ')',\n",
            "        'def lonng_function(\\n'\n",
            "        '    var_one, var_two, var_three,\\n'\n",
            "        '    var_four):\\n'\n",
            "        '  print(var_one)\\n'\n",
            "        '  )',\n",
            "        'def long_function(\\n'\n",
            "        '    var_one, var_two, var_three,\\n'\n",
            "        '    var_four):\\n'\n",
            "        '  print(var_one)\\n'\n",
            "        ')',\n",
            "        'def long_function(\\n'\n",
            "        '    var_one, var_two, var_three,\\n'\n",
            "        '    var_four):\\n'\n",
            "        '\\n'\n",
            "        'print(var_one)',\n",
            "        'def long_function(\\n'\n",
            "        '    var_one, var_two, var_three,\\n'\n",
            "        '    var_four):\\n'\n",
            "        '\\n'\n",
            "        '    print(var_one)',\n",
            "        'del foo\\n'\n",
            "        'foo = long_function_name(\\n'\n",
            "        '    var_one, var_two\\n'\n",
            "        '    var_three, var_four)',\n",
            "        'del foo\\n'\n",
            "        'foo = long_function_name(\\n'\n",
            "        '    var_one, var_two,\\n'\n",
            "        '    var_three, var_four)',\n",
            "        'def long_function_name(\\n'\n",
            "        '    var_one, var_two, var_three,\\n'\n",
            "        '    var_four):\\n'\n",
            "        '\\n'\n",
            "        '    print(var_one)',\n",
            "        'del foo\\n'\n",
            "        'foo = long_function_name(\\n'\n",
            "        '    var_one, var_two,\\n'\n",
            "        '    var_three, var_four)',\n",
            "        'foo = long_function_name(\\n'\n",
            "        '    var_one, var_two,\\n'\n",
            "        '    var_three, var_four)',\n",
            "        'def long_function_name(\\n'\n",
            "        '    var_one, var_two, var_three,\\n'\n",
            "        '    var_four):\\n'\n",
            "        '    print(var_one)',\n",
            "        'a=[]\\n'\n",
            "        'for n in range(0,10):\\n'\n",
            "        '  if n % 2 == 1:\\n'\n",
            "        '    a.append(n*2)\\n'\n",
            "        '\\n'\n",
            "        'print(a)',\n",
            "        '[n*2 for n in range(0,10) if n%2 ==1]',\n",
            "        'list(map(lambda x: x +10, [1,2,3]))',\n",
            "        'def long_function_name(\\n'\n",
            "        '    var_one, var_two, var_three,\\n'\n",
            "        '    var_four):\\n'\n",
            "        '    print(var_one)',\n",
            "        'def generator():\\n'\n",
            "        '    yield 1\\n'\n",
            "        \"    yield 'string'\\n\"\n",
            "        '    yield True\\n'\n",
            "        'g = generator()\\n'\n",
            "        'print(g)',\n",
            "        'next(g)\\nnext(g)\\nnext(g)',\n",
            "        'print(next(g))\\nprint(next(g))\\nprint(next(g))',\n",
            "        'next(g)',\n",
            "        'def generator():\\n'\n",
            "        '    yield 1\\n'\n",
            "        \"    yield 'string'\\n\"\n",
            "        '    yield True\\n'\n",
            "        'g = generator()\\n'\n",
            "        'print(g)',\n",
            "        'next(g)',\n",
            "        'next(g)',\n",
            "        'next(g)',\n",
            "        'sum1 = 0\\nfor i in range(1, 10 + 1):\\n    sum1 += i\\n\\nprint(sum1)',\n",
            "        'sum2 = sum(i for i in range(1, 10 + 1))\\nprint(sum2)',\n",
            "        'sum3 = sum(range(1, 10 + 1))\\nprint(sum3)',\n",
            "        'def are_equal(a,b):\\n  return a==b\\n\\nare_equal(10, 10.0)',\n",
            "        'from typing import TypeVar\\n'\n",
            "        '\\n'\n",
            "        \"T = TypeVar('T')\\n\"\n",
            "        \"U = TypeVar('U')\\n\"\n",
            "        '\\n'\n",
            "        'def are_equal(a: T, b: U) -> bool:\\n'\n",
            "        '    return a == b\\n'\n",
            "        '\\n'\n",
            "        'are_equal(10, 10.0)',\n",
            "        \"foo = ['A', 'B', 'C']\\nfor f in foo:\\n  print(f)\",\n",
            "        'from collections import namedtuple\\n'\n",
            "        '\\n'\n",
            "        'MyStruct = namedtuple(\"MyStruct\", \"field1 field2 field3\")\\n'\n",
            "        'm = MyStruct(\"foo\", \"bar\", \"baz\")\\n'\n",
            "        '\\n'\n",
            "        'print(m)',\n",
            "        '#파이썬(Python) 3.7+\\n'\n",
            "        'from dataclasses import dataclass\\n'\n",
            "        '\\n'\n",
            "        '@dataclass\\n'\n",
            "        'class Product:\\n'\n",
            "        '    weight: int = None\\n'\n",
            "        '    price: float = None\\n'\n",
            "        '\\n'\n",
            "        'apple = Product()\\n'\n",
            "        'apple.price = 10\\n'\n",
            "        '\\n'\n",
            "        'print(apple)',\n",
            "        'from dataclasses import dataclass\\n'\n",
            "        '\\n'\n",
            "        '@dataclass\\n'\n",
            "        'class Rectangle:\\n'\n",
            "        '    width: int\\n'\n",
            "        '    height: int\\n'\n",
            "        '    def area(self):\\n'\n",
            "        '        return self.width * self.height\\n'\n",
            "        '\\n'\n",
            "        'rect = Rectangle(3, 4)\\n'\n",
            "        'print(rect.area())',\n",
            "        'def long_function_name(\\n'\n",
            "        '    var_one, var_two, var_three,\\n'\n",
            "        '    var_four):\\n'\n",
            "        '    print(var_one)',\n",
            "        'list(map(lambda x: x +10, [1,2,3]))',\n",
            "        '[n*2 for n in range(0,10) if n%2 ==1]',\n",
            "        'a=[]\\n'\n",
            "        'for n in range(0,10):\\n'\n",
            "        '  if n % 2 == 1:\\n'\n",
            "        '    a.append(n*2)\\n'\n",
            "        '\\n'\n",
            "        'print(a)',\n",
            "        'a2 ={key: value for key, value in original.items()}',\n",
            "        'a2 ={key: value for key, value in original.items()}',\n",
            "        'def get_natural_number():\\n'\n",
            "        '    n = 0\\n'\n",
            "        '    while True:\\n'\n",
            "        '        n += 1\\n'\n",
            "        '        yield n\\n'\n",
            "        '\\n'\n",
            "        'get_natural_number()',\n",
            "        'g = get_natural_number()\\nfor _ in range(0,100):\\n    print(next(g))',\n",
            "        'def generator():\\n'\n",
            "        '    yield 1\\n'\n",
            "        \"    yield 'string'\\n\"\n",
            "        '    yield True\\n'\n",
            "        'g = generator()\\n'\n",
            "        'print(g)',\n",
            "        'next(g)',\n",
            "        'next(g)',\n",
            "        'next(g)',\n",
            "        'list(range(5))',\n",
            "        'range(5)',\n",
            "        'type(range(5))',\n",
            "        \"for i in range(5):\\n    print(i, end= '')\",\n",
            "        'a = [n for n in range(1000000)]\\nb = range(1000000)',\n",
            "        'len(a)',\n",
            "        'len(b)',\n",
            "        'len(a) == len(b)',\n",
            "        'b',\n",
            "        'type(b)',\n",
            "        'sys.getsizeof(a)',\n",
            "        'import sys\\nsys.getsizeof(a)',\n",
            "        'sys.getsizeof(b)',\n",
            "        'a = [1,2,3,2,45,2,5]\\nprint(a)',\n",
            "        'b[999]',\n",
            "        'enumerate(a)',\n",
            "        'list(enumerate(a))',\n",
            "        'list(enumerate(a))',\n",
            "        \"a = ['a1', 'b2', 'c3']\\nfor i in range(len(a)):\\n    print(i, a[i])\",\n",
            "        'a is copy.deepcopy(a)',\n",
            "        \"a = ['a1', 'b2', 'c3']\\nfor i in range(len(a)):\\n    print(i, a[i])\",\n",
            "        '#파이썬 3+\\n5/3',\n",
            "        'type(5/3)',\n",
            "        'int(5/3)',\n",
            "        'type(int(5/3))',\n",
            "        '5%3',\n",
            "        'divmod(5,3)',\n",
            "        \"print('A1', 'B2')\",\n",
            "        \"print('A1', 'B2', sep = ',')\",\n",
            "        \"print('aa', end = ' ')\\nprint('bb')\",\n",
            "        \"a = ['A', 'B']\\nprint(' '.join(a))\",\n",
            "        'idx = 1\\nfruit = \"Apple\"',\n",
            "        \"print('{0}: {1}'.format(idx + 1, fruit))\",\n",
            "        \"print('{}: {}'.format(idx + 1, fruit))\",\n",
            "        \"# 파이썬 3.6+\\nprint(f'{idx + 1}: {fruit}')\",\n",
            "        'class MyClass(object):\\n'\n",
            "        '    def method_a(self):\\n'\n",
            "        '\\n'\n",
            "        '    def method_b(self):\\n'\n",
            "        '        print(\"Method B\")\\n'\n",
            "        '\\n'\n",
            "        'c = MyClass()',\n",
            "        'class MyClass(object):\\n'\n",
            "        '    def method_a(self):\\n'\n",
            "        '        # 여기에 pass 추가\\n'\n",
            "        '        pass\\n'\n",
            "        '\\n'\n",
            "        '    def method_b(self):\\n'\n",
            "        '        print(\"Method B\")\\n'\n",
            "        '\\n'\n",
            "        'c = MyClass()',\n",
            "        'import pprint\\npprint.pprint(locals())'],\n",
            " 'MyClass': <class '__main__.MyClass'>,\n",
            " 'MyStruct': <class '__main__.MyStruct'>,\n",
            " 'Out': {4: True,\n",
            "         5: True,\n",
            "         24: [2, 6, 10, 14, 18],\n",
            "         25: [11, 12, 13],\n",
            "         28: True,\n",
            "         32: 1,\n",
            "         33: 'string',\n",
            "         34: True,\n",
            "         38: True,\n",
            "         39: True,\n",
            "         45: [11, 12, 13],\n",
            "         46: [2, 6, 10, 14, 18],\n",
            "         50: <generator object get_natural_number at 0x7f79250dee50>,\n",
            "         53: 1,\n",
            "         54: 'string',\n",
            "         55: True,\n",
            "         56: [0, 1, 2, 3, 4],\n",
            "         57: range(0, 5),\n",
            "         58: <class 'range'>,\n",
            "         61: 1000000,\n",
            "         62: 1000000,\n",
            "         63: True,\n",
            "         64: range(0, 1000000),\n",
            "         65: <class 'range'>,\n",
            "         67: 8697472,\n",
            "         68: 48,\n",
            "         70: 999,\n",
            "         71: <enumerate object at 0x7f791e9de0f0>,\n",
            "         72: [(0, 1), (1, 2), (2, 3), (3, 2), (4, 45), (5, 2), (6, 5)],\n",
            "         73: [(0, 1), (1, 2), (2, 3), (3, 2), (4, 45), (5, 2), (6, 5)],\n",
            "         77: 1.6666666666666667,\n",
            "         78: <class 'float'>,\n",
            "         79: 1,\n",
            "         80: <class 'int'>,\n",
            "         81: 2,\n",
            "         82: (1, 2)},\n",
            " 'Product': <class '__main__.Product'>,\n",
            " 'Rectangle': <class '__main__.Rectangle'>,\n",
            " 'T': ~T,\n",
            " 'TypeVar': <class 'typing.TypeVar'>,\n",
            " 'U': ~U,\n",
            " '_': (1, 2),\n",
            " '_24': [2, 6, 10, 14, 18],\n",
            " '_25': [11, 12, 13],\n",
            " '_28': True,\n",
            " '_32': 1,\n",
            " '_33': 'string',\n",
            " '_34': True,\n",
            " '_38': True,\n",
            " '_39': True,\n",
            " '_4': True,\n",
            " '_45': [11, 12, 13],\n",
            " '_46': [2, 6, 10, 14, 18],\n",
            " '_5': True,\n",
            " '_50': <generator object get_natural_number at 0x7f79250dee50>,\n",
            " '_53': 1,\n",
            " '_54': 'string',\n",
            " '_55': True,\n",
            " '_56': [0, 1, 2, 3, 4],\n",
            " '_57': range(0, 5),\n",
            " '_58': <class 'range'>,\n",
            " '_61': 1000000,\n",
            " '_62': 1000000,\n",
            " '_63': True,\n",
            " '_64': range(0, 1000000),\n",
            " '_65': <class 'range'>,\n",
            " '_67': 8697472,\n",
            " '_68': 48,\n",
            " '_70': 999,\n",
            " '_71': <enumerate object at 0x7f791e9de0f0>,\n",
            " '_72': [(0, 1), (1, 2), (2, 3), (3, 2), (4, 45), (5, 2), (6, 5)],\n",
            " '_73': [(0, 1), (1, 2), (2, 3), (3, 2), (4, 45), (5, 2), (6, 5)],\n",
            " '_77': 1.6666666666666667,\n",
            " '_78': <class 'float'>,\n",
            " '_79': 1,\n",
            " '_80': <class 'int'>,\n",
            " '_81': 2,\n",
            " '_82': (1, 2),\n",
            " '__': 2,\n",
            " '___': <class 'int'>,\n",
            " '__builtin__': <module 'builtins' (built-in)>,\n",
            " '__builtins__': <module 'builtins' (built-in)>,\n",
            " '__doc__': 'Automatically created module for IPython interactive environment',\n",
            " '__loader__': None,\n",
            " '__name__': '__main__',\n",
            " '__package__': None,\n",
            " '__spec__': None,\n",
            " '_dh': ['/content'],\n",
            " '_i': 'class MyClass(object):\\n'\n",
            "       '    def method_a(self):\\n'\n",
            "       '        # 여기에 pass 추가\\n'\n",
            "       '        pass\\n'\n",
            "       '\\n'\n",
            "       '    def method_b(self):\\n'\n",
            "       '        print(\"Method B\")\\n'\n",
            "       '\\n'\n",
            "       'c = MyClass()',\n",
            " '_i1': 'sum1 = 0\\nfor i in range(1, 10 + 1):\\n    sum1 += i\\n\\nprint(sum1)',\n",
            " '_i10': 'foo = long_function_name(var_one, var_two\\n'\n",
            "         '                         var_three, var_four)',\n",
            " '_i11': 'foo = long_function_name(var_one, var_two,\\n'\n",
            "         '                         var_three, var_four)',\n",
            " '_i12': 'def lonng_function(\\n'\n",
            "         '    var_one, var_two, var_three,\\n'\n",
            "         '    var_four):\\n'\n",
            "         '  print(var_one)\\n'\n",
            "         ')',\n",
            " '_i13': 'def lonng_function(\\n'\n",
            "         '    var_one, var_two, var_three,\\n'\n",
            "         '    var_four):\\n'\n",
            "         '  print(var_one)\\n'\n",
            "         '  )',\n",
            " '_i14': 'def long_function(\\n'\n",
            "         '    var_one, var_two, var_three,\\n'\n",
            "         '    var_four):\\n'\n",
            "         '  print(var_one)\\n'\n",
            "         ')',\n",
            " '_i15': 'def long_function(\\n'\n",
            "         '    var_one, var_two, var_three,\\n'\n",
            "         '    var_four):\\n'\n",
            "         '\\n'\n",
            "         'print(var_one)',\n",
            " '_i16': 'def long_function(\\n'\n",
            "         '    var_one, var_two, var_three,\\n'\n",
            "         '    var_four):\\n'\n",
            "         '\\n'\n",
            "         '    print(var_one)',\n",
            " '_i17': 'del foo\\n'\n",
            "         'foo = long_function_name(\\n'\n",
            "         '    var_one, var_two\\n'\n",
            "         '    var_three, var_four)',\n",
            " '_i18': 'del foo\\n'\n",
            "         'foo = long_function_name(\\n'\n",
            "         '    var_one, var_two,\\n'\n",
            "         '    var_three, var_four)',\n",
            " '_i19': 'def long_function_name(\\n'\n",
            "         '    var_one, var_two, var_three,\\n'\n",
            "         '    var_four):\\n'\n",
            "         '\\n'\n",
            "         '    print(var_one)',\n",
            " '_i2': 'sum2 = sum(i for i in range(1, 10 + 1))\\nprint(sum2)',\n",
            " '_i20': 'del foo\\n'\n",
            "         'foo = long_function_name(\\n'\n",
            "         '    var_one, var_two,\\n'\n",
            "         '    var_three, var_four)',\n",
            " '_i21': 'foo = long_function_name(\\n'\n",
            "         '    var_one, var_two,\\n'\n",
            "         '    var_three, var_four)',\n",
            " '_i22': 'def long_function_name(\\n'\n",
            "         '    var_one, var_two, var_three,\\n'\n",
            "         '    var_four):\\n'\n",
            "         '    print(var_one)',\n",
            " '_i23': 'a=[]\\n'\n",
            "         'for n in range(0,10):\\n'\n",
            "         '  if n % 2 == 1:\\n'\n",
            "         '    a.append(n*2)\\n'\n",
            "         '\\n'\n",
            "         'print(a)',\n",
            " '_i24': '[n*2 for n in range(0,10) if n%2 ==1]',\n",
            " '_i25': 'list(map(lambda x: x +10, [1,2,3]))',\n",
            " '_i26': 'def long_function_name(\\n'\n",
            "         '    var_one, var_two, var_three,\\n'\n",
            "         '    var_four):\\n'\n",
            "         '    print(var_one)',\n",
            " '_i27': 'def generator():\\n'\n",
            "         '    yield 1\\n'\n",
            "         \"    yield 'string'\\n\"\n",
            "         '    yield True\\n'\n",
            "         'g = generator()\\n'\n",
            "         'print(g)',\n",
            " '_i28': 'next(g)\\nnext(g)\\nnext(g)',\n",
            " '_i29': 'print(next(g))\\nprint(next(g))\\nprint(next(g))',\n",
            " '_i3': 'sum3 = sum(range(1, 10 + 1))\\nprint(sum3)',\n",
            " '_i30': 'next(g)',\n",
            " '_i31': 'def generator():\\n'\n",
            "         '    yield 1\\n'\n",
            "         \"    yield 'string'\\n\"\n",
            "         '    yield True\\n'\n",
            "         'g = generator()\\n'\n",
            "         'print(g)',\n",
            " '_i32': 'next(g)',\n",
            " '_i33': 'next(g)',\n",
            " '_i34': 'next(g)',\n",
            " '_i35': 'sum1 = 0\\nfor i in range(1, 10 + 1):\\n    sum1 += i\\n\\nprint(sum1)',\n",
            " '_i36': 'sum2 = sum(i for i in range(1, 10 + 1))\\nprint(sum2)',\n",
            " '_i37': 'sum3 = sum(range(1, 10 + 1))\\nprint(sum3)',\n",
            " '_i38': 'def are_equal(a,b):\\n  return a==b\\n\\nare_equal(10, 10.0)',\n",
            " '_i39': 'from typing import TypeVar\\n'\n",
            "         '\\n'\n",
            "         \"T = TypeVar('T')\\n\"\n",
            "         \"U = TypeVar('U')\\n\"\n",
            "         '\\n'\n",
            "         'def are_equal(a: T, b: U) -> bool:\\n'\n",
            "         '    return a == b\\n'\n",
            "         '\\n'\n",
            "         'are_equal(10, 10.0)',\n",
            " '_i4': 'def are_equal(a,b):\\n  return a==b\\n\\nare_equal(10, 10.0)',\n",
            " '_i40': \"foo = ['A', 'B', 'C']\\nfor f in foo:\\n  print(f)\",\n",
            " '_i41': 'from collections import namedtuple\\n'\n",
            "         '\\n'\n",
            "         'MyStruct = namedtuple(\"MyStruct\", \"field1 field2 field3\")\\n'\n",
            "         'm = MyStruct(\"foo\", \"bar\", \"baz\")\\n'\n",
            "         '\\n'\n",
            "         'print(m)',\n",
            " '_i42': '#파이썬(Python) 3.7+\\n'\n",
            "         'from dataclasses import dataclass\\n'\n",
            "         '\\n'\n",
            "         '@dataclass\\n'\n",
            "         'class Product:\\n'\n",
            "         '    weight: int = None\\n'\n",
            "         '    price: float = None\\n'\n",
            "         '\\n'\n",
            "         'apple = Product()\\n'\n",
            "         'apple.price = 10\\n'\n",
            "         '\\n'\n",
            "         'print(apple)',\n",
            " '_i43': 'from dataclasses import dataclass\\n'\n",
            "         '\\n'\n",
            "         '@dataclass\\n'\n",
            "         'class Rectangle:\\n'\n",
            "         '    width: int\\n'\n",
            "         '    height: int\\n'\n",
            "         '    def area(self):\\n'\n",
            "         '        return self.width * self.height\\n'\n",
            "         '\\n'\n",
            "         'rect = Rectangle(3, 4)\\n'\n",
            "         'print(rect.area())',\n",
            " '_i44': 'def long_function_name(\\n'\n",
            "         '    var_one, var_two, var_three,\\n'\n",
            "         '    var_four):\\n'\n",
            "         '    print(var_one)',\n",
            " '_i45': 'list(map(lambda x: x +10, [1,2,3]))',\n",
            " '_i46': '[n*2 for n in range(0,10) if n%2 ==1]',\n",
            " '_i47': 'a=[]\\n'\n",
            "         'for n in range(0,10):\\n'\n",
            "         '  if n % 2 == 1:\\n'\n",
            "         '    a.append(n*2)\\n'\n",
            "         '\\n'\n",
            "         'print(a)',\n",
            " '_i48': 'a2 ={key: value for key, value in original.items()}',\n",
            " '_i49': 'a2 ={key: value for key, value in original.items()}',\n",
            " '_i5': 'from typing import TypeVar\\n'\n",
            "        '\\n'\n",
            "        \"T = TypeVar('T')\\n\"\n",
            "        \"U = TypeVar('U')\\n\"\n",
            "        '\\n'\n",
            "        'def are_equal(a: T, b: U) -> bool:\\n'\n",
            "        '    return a == b\\n'\n",
            "        '\\n'\n",
            "        'are_equal(10, 10.0)',\n",
            " '_i50': 'def get_natural_number():\\n'\n",
            "         '    n = 0\\n'\n",
            "         '    while True:\\n'\n",
            "         '        n += 1\\n'\n",
            "         '        yield n\\n'\n",
            "         '\\n'\n",
            "         'get_natural_number()',\n",
            " '_i51': 'g = get_natural_number()\\nfor _ in range(0,100):\\n    print(next(g))',\n",
            " '_i52': 'def generator():\\n'\n",
            "         '    yield 1\\n'\n",
            "         \"    yield 'string'\\n\"\n",
            "         '    yield True\\n'\n",
            "         'g = generator()\\n'\n",
            "         'print(g)',\n",
            " '_i53': 'next(g)',\n",
            " '_i54': 'next(g)',\n",
            " '_i55': 'next(g)',\n",
            " '_i56': 'list(range(5))',\n",
            " '_i57': 'range(5)',\n",
            " '_i58': 'type(range(5))',\n",
            " '_i59': \"for i in range(5):\\n    print(i, end= '')\",\n",
            " '_i6': \"foo = ['A', 'B', 'C']\\nfor f in foo:\\n  print(f)\",\n",
            " '_i60': 'a = [n for n in range(1000000)]\\nb = range(1000000)',\n",
            " '_i61': 'len(a)',\n",
            " '_i62': 'len(b)',\n",
            " '_i63': 'len(a) == len(b)',\n",
            " '_i64': 'b',\n",
            " '_i65': 'type(b)',\n",
            " '_i66': 'sys.getsizeof(a)',\n",
            " '_i67': 'import sys\\nsys.getsizeof(a)',\n",
            " '_i68': 'sys.getsizeof(b)',\n",
            " '_i69': 'a = [1,2,3,2,45,2,5]\\nprint(a)',\n",
            " '_i7': 'from collections import namedtuple\\n'\n",
            "        '\\n'\n",
            "        'MyStruct = namedtuple(\"MyStruct\", \"field1 field2 field3\")\\n'\n",
            "        'm = MyStruct(\"foo\", \"bar\", \"baz\")\\n'\n",
            "        '\\n'\n",
            "        'print(m)',\n",
            " '_i70': 'b[999]',\n",
            " '_i71': 'enumerate(a)',\n",
            " '_i72': 'list(enumerate(a))',\n",
            " '_i73': 'list(enumerate(a))',\n",
            " '_i74': \"a = ['a1', 'b2', 'c3']\\nfor i in range(len(a)):\\n    print(i, a[i])\",\n",
            " '_i75': 'a is copy.deepcopy(a)',\n",
            " '_i76': \"a = ['a1', 'b2', 'c3']\\nfor i in range(len(a)):\\n    print(i, a[i])\",\n",
            " '_i77': '#파이썬 3+\\n5/3',\n",
            " '_i78': 'type(5/3)',\n",
            " '_i79': 'int(5/3)',\n",
            " '_i8': '#파이썬(Python) 3.7+\\n'\n",
            "        'from dataclasses import dataclass\\n'\n",
            "        '\\n'\n",
            "        '@dataclass\\n'\n",
            "        'class Product:\\n'\n",
            "        '    weight: int = None\\n'\n",
            "        '    price: float = None\\n'\n",
            "        '\\n'\n",
            "        'apple = Product()\\n'\n",
            "        'apple.price = 10\\n'\n",
            "        '\\n'\n",
            "        'print(apple)',\n",
            " '_i80': 'type(int(5/3))',\n",
            " '_i81': '5%3',\n",
            " '_i82': 'divmod(5,3)',\n",
            " '_i83': \"print('A1', 'B2')\",\n",
            " '_i84': \"print('A1', 'B2', sep = ',')\",\n",
            " '_i85': \"print('aa', end = ' ')\\nprint('bb')\",\n",
            " '_i86': \"a = ['A', 'B']\\nprint(' '.join(a))\",\n",
            " '_i87': 'idx = 1\\nfruit = \"Apple\"',\n",
            " '_i88': \"print('{0}: {1}'.format(idx + 1, fruit))\",\n",
            " '_i89': \"print('{}: {}'.format(idx + 1, fruit))\",\n",
            " '_i9': 'from dataclasses import dataclass\\n'\n",
            "        '\\n'\n",
            "        '@dataclass\\n'\n",
            "        'class Rectangle:\\n'\n",
            "        '    width: int\\n'\n",
            "        '    height: int\\n'\n",
            "        '    def area(self):\\n'\n",
            "        '        return self.width * self.height\\n'\n",
            "        '\\n'\n",
            "        'rect = Rectangle(3, 4)\\n'\n",
            "        'print(rect.area())',\n",
            " '_i90': \"# 파이썬 3.6+\\nprint(f'{idx + 1}: {fruit}')\",\n",
            " '_i91': 'class MyClass(object):\\n'\n",
            "         '    def method_a(self):\\n'\n",
            "         '\\n'\n",
            "         '    def method_b(self):\\n'\n",
            "         '        print(\"Method B\")\\n'\n",
            "         '\\n'\n",
            "         'c = MyClass()',\n",
            " '_i92': 'class MyClass(object):\\n'\n",
            "         '    def method_a(self):\\n'\n",
            "         '        # 여기에 pass 추가\\n'\n",
            "         '        pass\\n'\n",
            "         '\\n'\n",
            "         '    def method_b(self):\\n'\n",
            "         '        print(\"Method B\")\\n'\n",
            "         '\\n'\n",
            "         'c = MyClass()',\n",
            " '_i93': 'import pprint\\npprint.pprint(locals())',\n",
            " '_ih': ['',\n",
            "         'sum1 = 0\\nfor i in range(1, 10 + 1):\\n    sum1 += i\\n\\nprint(sum1)',\n",
            "         'sum2 = sum(i for i in range(1, 10 + 1))\\nprint(sum2)',\n",
            "         'sum3 = sum(range(1, 10 + 1))\\nprint(sum3)',\n",
            "         'def are_equal(a,b):\\n  return a==b\\n\\nare_equal(10, 10.0)',\n",
            "         'from typing import TypeVar\\n'\n",
            "         '\\n'\n",
            "         \"T = TypeVar('T')\\n\"\n",
            "         \"U = TypeVar('U')\\n\"\n",
            "         '\\n'\n",
            "         'def are_equal(a: T, b: U) -> bool:\\n'\n",
            "         '    return a == b\\n'\n",
            "         '\\n'\n",
            "         'are_equal(10, 10.0)',\n",
            "         \"foo = ['A', 'B', 'C']\\nfor f in foo:\\n  print(f)\",\n",
            "         'from collections import namedtuple\\n'\n",
            "         '\\n'\n",
            "         'MyStruct = namedtuple(\"MyStruct\", \"field1 field2 field3\")\\n'\n",
            "         'm = MyStruct(\"foo\", \"bar\", \"baz\")\\n'\n",
            "         '\\n'\n",
            "         'print(m)',\n",
            "         '#파이썬(Python) 3.7+\\n'\n",
            "         'from dataclasses import dataclass\\n'\n",
            "         '\\n'\n",
            "         '@dataclass\\n'\n",
            "         'class Product:\\n'\n",
            "         '    weight: int = None\\n'\n",
            "         '    price: float = None\\n'\n",
            "         '\\n'\n",
            "         'apple = Product()\\n'\n",
            "         'apple.price = 10\\n'\n",
            "         '\\n'\n",
            "         'print(apple)',\n",
            "         'from dataclasses import dataclass\\n'\n",
            "         '\\n'\n",
            "         '@dataclass\\n'\n",
            "         'class Rectangle:\\n'\n",
            "         '    width: int\\n'\n",
            "         '    height: int\\n'\n",
            "         '    def area(self):\\n'\n",
            "         '        return self.width * self.height\\n'\n",
            "         '\\n'\n",
            "         'rect = Rectangle(3, 4)\\n'\n",
            "         'print(rect.area())',\n",
            "         'foo = long_function_name(var_one, var_two\\n'\n",
            "         '                         var_three, var_four)',\n",
            "         'foo = long_function_name(var_one, var_two,\\n'\n",
            "         '                         var_three, var_four)',\n",
            "         'def lonng_function(\\n'\n",
            "         '    var_one, var_two, var_three,\\n'\n",
            "         '    var_four):\\n'\n",
            "         '  print(var_one)\\n'\n",
            "         ')',\n",
            "         'def lonng_function(\\n'\n",
            "         '    var_one, var_two, var_three,\\n'\n",
            "         '    var_four):\\n'\n",
            "         '  print(var_one)\\n'\n",
            "         '  )',\n",
            "         'def long_function(\\n'\n",
            "         '    var_one, var_two, var_three,\\n'\n",
            "         '    var_four):\\n'\n",
            "         '  print(var_one)\\n'\n",
            "         ')',\n",
            "         'def long_function(\\n'\n",
            "         '    var_one, var_two, var_three,\\n'\n",
            "         '    var_four):\\n'\n",
            "         '\\n'\n",
            "         'print(var_one)',\n",
            "         'def long_function(\\n'\n",
            "         '    var_one, var_two, var_three,\\n'\n",
            "         '    var_four):\\n'\n",
            "         '\\n'\n",
            "         '    print(var_one)',\n",
            "         'del foo\\n'\n",
            "         'foo = long_function_name(\\n'\n",
            "         '    var_one, var_two\\n'\n",
            "         '    var_three, var_four)',\n",
            "         'del foo\\n'\n",
            "         'foo = long_function_name(\\n'\n",
            "         '    var_one, var_two,\\n'\n",
            "         '    var_three, var_four)',\n",
            "         'def long_function_name(\\n'\n",
            "         '    var_one, var_two, var_three,\\n'\n",
            "         '    var_four):\\n'\n",
            "         '\\n'\n",
            "         '    print(var_one)',\n",
            "         'del foo\\n'\n",
            "         'foo = long_function_name(\\n'\n",
            "         '    var_one, var_two,\\n'\n",
            "         '    var_three, var_four)',\n",
            "         'foo = long_function_name(\\n'\n",
            "         '    var_one, var_two,\\n'\n",
            "         '    var_three, var_four)',\n",
            "         'def long_function_name(\\n'\n",
            "         '    var_one, var_two, var_three,\\n'\n",
            "         '    var_four):\\n'\n",
            "         '    print(var_one)',\n",
            "         'a=[]\\n'\n",
            "         'for n in range(0,10):\\n'\n",
            "         '  if n % 2 == 1:\\n'\n",
            "         '    a.append(n*2)\\n'\n",
            "         '\\n'\n",
            "         'print(a)',\n",
            "         '[n*2 for n in range(0,10) if n%2 ==1]',\n",
            "         'list(map(lambda x: x +10, [1,2,3]))',\n",
            "         'def long_function_name(\\n'\n",
            "         '    var_one, var_two, var_three,\\n'\n",
            "         '    var_four):\\n'\n",
            "         '    print(var_one)',\n",
            "         'def generator():\\n'\n",
            "         '    yield 1\\n'\n",
            "         \"    yield 'string'\\n\"\n",
            "         '    yield True\\n'\n",
            "         'g = generator()\\n'\n",
            "         'print(g)',\n",
            "         'next(g)\\nnext(g)\\nnext(g)',\n",
            "         'print(next(g))\\nprint(next(g))\\nprint(next(g))',\n",
            "         'next(g)',\n",
            "         'def generator():\\n'\n",
            "         '    yield 1\\n'\n",
            "         \"    yield 'string'\\n\"\n",
            "         '    yield True\\n'\n",
            "         'g = generator()\\n'\n",
            "         'print(g)',\n",
            "         'next(g)',\n",
            "         'next(g)',\n",
            "         'next(g)',\n",
            "         'sum1 = 0\\nfor i in range(1, 10 + 1):\\n    sum1 += i\\n\\nprint(sum1)',\n",
            "         'sum2 = sum(i for i in range(1, 10 + 1))\\nprint(sum2)',\n",
            "         'sum3 = sum(range(1, 10 + 1))\\nprint(sum3)',\n",
            "         'def are_equal(a,b):\\n  return a==b\\n\\nare_equal(10, 10.0)',\n",
            "         'from typing import TypeVar\\n'\n",
            "         '\\n'\n",
            "         \"T = TypeVar('T')\\n\"\n",
            "         \"U = TypeVar('U')\\n\"\n",
            "         '\\n'\n",
            "         'def are_equal(a: T, b: U) -> bool:\\n'\n",
            "         '    return a == b\\n'\n",
            "         '\\n'\n",
            "         'are_equal(10, 10.0)',\n",
            "         \"foo = ['A', 'B', 'C']\\nfor f in foo:\\n  print(f)\",\n",
            "         'from collections import namedtuple\\n'\n",
            "         '\\n'\n",
            "         'MyStruct = namedtuple(\"MyStruct\", \"field1 field2 field3\")\\n'\n",
            "         'm = MyStruct(\"foo\", \"bar\", \"baz\")\\n'\n",
            "         '\\n'\n",
            "         'print(m)',\n",
            "         '#파이썬(Python) 3.7+\\n'\n",
            "         'from dataclasses import dataclass\\n'\n",
            "         '\\n'\n",
            "         '@dataclass\\n'\n",
            "         'class Product:\\n'\n",
            "         '    weight: int = None\\n'\n",
            "         '    price: float = None\\n'\n",
            "         '\\n'\n",
            "         'apple = Product()\\n'\n",
            "         'apple.price = 10\\n'\n",
            "         '\\n'\n",
            "         'print(apple)',\n",
            "         'from dataclasses import dataclass\\n'\n",
            "         '\\n'\n",
            "         '@dataclass\\n'\n",
            "         'class Rectangle:\\n'\n",
            "         '    width: int\\n'\n",
            "         '    height: int\\n'\n",
            "         '    def area(self):\\n'\n",
            "         '        return self.width * self.height\\n'\n",
            "         '\\n'\n",
            "         'rect = Rectangle(3, 4)\\n'\n",
            "         'print(rect.area())',\n",
            "         'def long_function_name(\\n'\n",
            "         '    var_one, var_two, var_three,\\n'\n",
            "         '    var_four):\\n'\n",
            "         '    print(var_one)',\n",
            "         'list(map(lambda x: x +10, [1,2,3]))',\n",
            "         '[n*2 for n in range(0,10) if n%2 ==1]',\n",
            "         'a=[]\\n'\n",
            "         'for n in range(0,10):\\n'\n",
            "         '  if n % 2 == 1:\\n'\n",
            "         '    a.append(n*2)\\n'\n",
            "         '\\n'\n",
            "         'print(a)',\n",
            "         'a2 ={key: value for key, value in original.items()}',\n",
            "         'a2 ={key: value for key, value in original.items()}',\n",
            "         'def get_natural_number():\\n'\n",
            "         '    n = 0\\n'\n",
            "         '    while True:\\n'\n",
            "         '        n += 1\\n'\n",
            "         '        yield n\\n'\n",
            "         '\\n'\n",
            "         'get_natural_number()',\n",
            "         'g = get_natural_number()\\nfor _ in range(0,100):\\n    print(next(g))',\n",
            "         'def generator():\\n'\n",
            "         '    yield 1\\n'\n",
            "         \"    yield 'string'\\n\"\n",
            "         '    yield True\\n'\n",
            "         'g = generator()\\n'\n",
            "         'print(g)',\n",
            "         'next(g)',\n",
            "         'next(g)',\n",
            "         'next(g)',\n",
            "         'list(range(5))',\n",
            "         'range(5)',\n",
            "         'type(range(5))',\n",
            "         \"for i in range(5):\\n    print(i, end= '')\",\n",
            "         'a = [n for n in range(1000000)]\\nb = range(1000000)',\n",
            "         'len(a)',\n",
            "         'len(b)',\n",
            "         'len(a) == len(b)',\n",
            "         'b',\n",
            "         'type(b)',\n",
            "         'sys.getsizeof(a)',\n",
            "         'import sys\\nsys.getsizeof(a)',\n",
            "         'sys.getsizeof(b)',\n",
            "         'a = [1,2,3,2,45,2,5]\\nprint(a)',\n",
            "         'b[999]',\n",
            "         'enumerate(a)',\n",
            "         'list(enumerate(a))',\n",
            "         'list(enumerate(a))',\n",
            "         \"a = ['a1', 'b2', 'c3']\\nfor i in range(len(a)):\\n    print(i, a[i])\",\n",
            "         'a is copy.deepcopy(a)',\n",
            "         \"a = ['a1', 'b2', 'c3']\\nfor i in range(len(a)):\\n    print(i, a[i])\",\n",
            "         '#파이썬 3+\\n5/3',\n",
            "         'type(5/3)',\n",
            "         'int(5/3)',\n",
            "         'type(int(5/3))',\n",
            "         '5%3',\n",
            "         'divmod(5,3)',\n",
            "         \"print('A1', 'B2')\",\n",
            "         \"print('A1', 'B2', sep = ',')\",\n",
            "         \"print('aa', end = ' ')\\nprint('bb')\",\n",
            "         \"a = ['A', 'B']\\nprint(' '.join(a))\",\n",
            "         'idx = 1\\nfruit = \"Apple\"',\n",
            "         \"print('{0}: {1}'.format(idx + 1, fruit))\",\n",
            "         \"print('{}: {}'.format(idx + 1, fruit))\",\n",
            "         \"# 파이썬 3.6+\\nprint(f'{idx + 1}: {fruit}')\",\n",
            "         'class MyClass(object):\\n'\n",
            "         '    def method_a(self):\\n'\n",
            "         '\\n'\n",
            "         '    def method_b(self):\\n'\n",
            "         '        print(\"Method B\")\\n'\n",
            "         '\\n'\n",
            "         'c = MyClass()',\n",
            "         'class MyClass(object):\\n'\n",
            "         '    def method_a(self):\\n'\n",
            "         '        # 여기에 pass 추가\\n'\n",
            "         '        pass\\n'\n",
            "         '\\n'\n",
            "         '    def method_b(self):\\n'\n",
            "         '        print(\"Method B\")\\n'\n",
            "         '\\n'\n",
            "         'c = MyClass()',\n",
            "         'import pprint\\npprint.pprint(locals())'],\n",
            " '_ii': 'class MyClass(object):\\n'\n",
            "        '    def method_a(self):\\n'\n",
            "        '\\n'\n",
            "        '    def method_b(self):\\n'\n",
            "        '        print(\"Method B\")\\n'\n",
            "        '\\n'\n",
            "        'c = MyClass()',\n",
            " '_iii': \"# 파이썬 3.6+\\nprint(f'{idx + 1}: {fruit}')\",\n",
            " '_oh': {4: True,\n",
            "         5: True,\n",
            "         24: [2, 6, 10, 14, 18],\n",
            "         25: [11, 12, 13],\n",
            "         28: True,\n",
            "         32: 1,\n",
            "         33: 'string',\n",
            "         34: True,\n",
            "         38: True,\n",
            "         39: True,\n",
            "         45: [11, 12, 13],\n",
            "         46: [2, 6, 10, 14, 18],\n",
            "         50: <generator object get_natural_number at 0x7f79250dee50>,\n",
            "         53: 1,\n",
            "         54: 'string',\n",
            "         55: True,\n",
            "         56: [0, 1, 2, 3, 4],\n",
            "         57: range(0, 5),\n",
            "         58: <class 'range'>,\n",
            "         61: 1000000,\n",
            "         62: 1000000,\n",
            "         63: True,\n",
            "         64: range(0, 1000000),\n",
            "         65: <class 'range'>,\n",
            "         67: 8697472,\n",
            "         68: 48,\n",
            "         70: 999,\n",
            "         71: <enumerate object at 0x7f791e9de0f0>,\n",
            "         72: [(0, 1), (1, 2), (2, 3), (3, 2), (4, 45), (5, 2), (6, 5)],\n",
            "         73: [(0, 1), (1, 2), (2, 3), (3, 2), (4, 45), (5, 2), (6, 5)],\n",
            "         77: 1.6666666666666667,\n",
            "         78: <class 'float'>,\n",
            "         79: 1,\n",
            "         80: <class 'int'>,\n",
            "         81: 2,\n",
            "         82: (1, 2)},\n",
            " '_sh': <module 'IPython.core.shadowns' from '/usr/local/lib/python3.7/dist-packages/IPython/core/shadowns.py'>,\n",
            " 'a': ['A', 'B'],\n",
            " 'apple': Product(weight=None, price=10),\n",
            " 'are_equal': <function are_equal at 0x7f79250ebd40>,\n",
            " 'b': range(0, 1000000),\n",
            " 'c': <__main__.MyClass object at 0x7f791e9e39d0>,\n",
            " 'dataclass': <function dataclass at 0x7f792515c0e0>,\n",
            " 'exit': <IPython.core.autocall.ZMQExitAutocall object at 0x7f7927fc51d0>,\n",
            " 'f': 'C',\n",
            " 'foo': ['A', 'B', 'C'],\n",
            " 'fruit': 'Apple',\n",
            " 'g': <generator object generator at 0x7f79251bed50>,\n",
            " 'generator': <function generator at 0x7f79250c1050>,\n",
            " 'get_ipython': <bound method InteractiveShell.get_ipython of <google.colab._shell.Shell object at 0x7f792a81ded0>>,\n",
            " 'get_natural_number': <function get_natural_number at 0x7f79250ae290>,\n",
            " 'i': 2,\n",
            " 'idx': 1,\n",
            " 'long_function': <function long_function at 0x7f79250eb3b0>,\n",
            " 'long_function_name': <function long_function_name at 0x7f79250ae170>,\n",
            " 'm': MyStruct(field1='foo', field2='bar', field3='baz'),\n",
            " 'n': 9,\n",
            " 'namedtuple': <function namedtuple at 0x7f7946436290>,\n",
            " 'pprint': <module 'pprint' from '/usr/lib/python3.7/pprint.py'>,\n",
            " 'quit': <IPython.core.autocall.ZMQExitAutocall object at 0x7f7927fc51d0>,\n",
            " 'rect': Rectangle(width=3, height=4),\n",
            " 'sum1': 55,\n",
            " 'sum2': 55,\n",
            " 'sum3': 55,\n",
            " 'sys': <module 'sys' (built-in)>}\n"
          ],
          "name": "stdout"
        }
      ]
    },
    {
      "cell_type": "markdown",
      "metadata": {
        "id": "iDmiZtr72C1V"
      },
      "source": [
        "pp.92-93 변수명과 주석"
      ]
    },
    {
      "cell_type": "code",
      "metadata": {
        "colab": {
          "base_uri": "https://localhost:8080/",
          "height": 232
        },
        "id": "sylS_EoH15A4",
        "outputId": "6b003158-c808-4f05-b2df-373f4b2e9c87"
      },
      "source": [
        "def numMatchingSubseq(self, S:str, words: List[str]) -> int:\n",
        "    a = 0\n",
        "\n",
        "    for b in words:\n",
        "        c = 0\n",
        "        for i in range(len(b)):\n",
        "            d = S[c:].find(b[i])\n",
        "            if d < 0:\n",
        "                a -= 1\n",
        "                break\n",
        "            else:\n",
        "                c += d + 1\n",
        "        a += 1\n",
        "    return a"
      ],
      "execution_count": 94,
      "outputs": [
        {
          "output_type": "error",
          "ename": "NameError",
          "evalue": "ignored",
          "traceback": [
            "\u001b[0;31m---------------------------------------------------------------------------\u001b[0m",
            "\u001b[0;31mNameError\u001b[0m                                 Traceback (most recent call last)",
            "\u001b[0;32m<ipython-input-94-0271e8518d13>\u001b[0m in \u001b[0;36m<module>\u001b[0;34m()\u001b[0m\n\u001b[0;32m----> 1\u001b[0;31m \u001b[0;32mdef\u001b[0m \u001b[0mnumMatchingSubseq\u001b[0m\u001b[0;34m(\u001b[0m\u001b[0mself\u001b[0m\u001b[0;34m,\u001b[0m \u001b[0mS\u001b[0m\u001b[0;34m:\u001b[0m\u001b[0mstr\u001b[0m\u001b[0;34m,\u001b[0m \u001b[0mwords\u001b[0m\u001b[0;34m:\u001b[0m \u001b[0mList\u001b[0m\u001b[0;34m[\u001b[0m\u001b[0mstr\u001b[0m\u001b[0;34m]\u001b[0m\u001b[0;34m)\u001b[0m \u001b[0;34m->\u001b[0m \u001b[0mint\u001b[0m\u001b[0;34m:\u001b[0m\u001b[0;34m\u001b[0m\u001b[0;34m\u001b[0m\u001b[0m\n\u001b[0m\u001b[1;32m      2\u001b[0m     \u001b[0ma\u001b[0m \u001b[0;34m=\u001b[0m \u001b[0;36m0\u001b[0m\u001b[0;34m\u001b[0m\u001b[0;34m\u001b[0m\u001b[0m\n\u001b[1;32m      3\u001b[0m \u001b[0;34m\u001b[0m\u001b[0m\n\u001b[1;32m      4\u001b[0m     \u001b[0;32mfor\u001b[0m \u001b[0mb\u001b[0m \u001b[0;32min\u001b[0m \u001b[0mwords\u001b[0m\u001b[0;34m:\u001b[0m\u001b[0;34m\u001b[0m\u001b[0;34m\u001b[0m\u001b[0m\n\u001b[1;32m      5\u001b[0m         \u001b[0mc\u001b[0m \u001b[0;34m=\u001b[0m \u001b[0;36m0\u001b[0m\u001b[0;34m\u001b[0m\u001b[0;34m\u001b[0m\u001b[0m\n",
            "\u001b[0;31mNameError\u001b[0m: name 'List' is not defined"
          ]
        }
      ]
    },
    {
      "cell_type": "code",
      "metadata": {
        "colab": {
          "base_uri": "https://localhost:8080/",
          "height": 232
        },
        "id": "gGGRMume2Lqn",
        "outputId": "99501cc3-ce13-4fc7-8686-c8daa22f6d04"
      },
      "source": [
        "def numMatchingSubseq(self, S: str, words: List[str]) -> int:\n",
        "    matched_count = 0\n",
        "\n",
        "    for word in words:\n",
        "       #Find matching position for each character.\n",
        "       found_pos = S[pos:].find(word[i])\n",
        "       if found_pos < 0:\n",
        "           matched_count -= 1\n",
        "           break\n",
        "       else: #If found, take step position forward.\n",
        "           pos += found_pos + 1\n",
        "    matched_count += 1\n",
        "\n",
        "return matched_count"
      ],
      "execution_count": 95,
      "outputs": [
        {
          "output_type": "error",
          "ename": "NameError",
          "evalue": "ignored",
          "traceback": [
            "\u001b[0;31m---------------------------------------------------------------------------\u001b[0m",
            "\u001b[0;31mNameError\u001b[0m                                 Traceback (most recent call last)",
            "\u001b[0;32m<ipython-input-95-53437a5da628>\u001b[0m in \u001b[0;36m<module>\u001b[0;34m()\u001b[0m\n\u001b[0;32m----> 1\u001b[0;31m \u001b[0;32mdef\u001b[0m \u001b[0mnumMatchingSubseq\u001b[0m\u001b[0;34m(\u001b[0m\u001b[0mself\u001b[0m\u001b[0;34m,\u001b[0m \u001b[0mS\u001b[0m\u001b[0;34m:\u001b[0m \u001b[0mstr\u001b[0m\u001b[0;34m,\u001b[0m \u001b[0mwords\u001b[0m\u001b[0;34m:\u001b[0m \u001b[0mList\u001b[0m\u001b[0;34m[\u001b[0m\u001b[0mstr\u001b[0m\u001b[0;34m]\u001b[0m\u001b[0;34m)\u001b[0m \u001b[0;34m->\u001b[0m \u001b[0mint\u001b[0m\u001b[0;34m:\u001b[0m\u001b[0;34m\u001b[0m\u001b[0;34m\u001b[0m\u001b[0m\n\u001b[0m\u001b[1;32m      2\u001b[0m     \u001b[0mmatched_count\u001b[0m \u001b[0;34m=\u001b[0m \u001b[0;36m0\u001b[0m\u001b[0;34m\u001b[0m\u001b[0;34m\u001b[0m\u001b[0m\n\u001b[1;32m      3\u001b[0m \u001b[0;34m\u001b[0m\u001b[0m\n\u001b[1;32m      4\u001b[0m     \u001b[0;32mfor\u001b[0m \u001b[0mword\u001b[0m \u001b[0;32min\u001b[0m \u001b[0mwords\u001b[0m\u001b[0;34m:\u001b[0m\u001b[0;34m\u001b[0m\u001b[0;34m\u001b[0m\u001b[0m\n\u001b[1;32m      5\u001b[0m        \u001b[0;31m#Find matching position for each character.\u001b[0m\u001b[0;34m\u001b[0m\u001b[0;34m\u001b[0m\u001b[0;34m\u001b[0m\u001b[0m\n",
            "\u001b[0;31mNameError\u001b[0m: name 'List' is not defined"
          ]
        }
      ]
    },
    {
      "cell_type": "markdown",
      "metadata": {
        "id": "raLjmcpF2M9L"
      },
      "source": [
        "pp.94-95 리스트 컴프리헨션"
      ]
    },
    {
      "cell_type": "code",
      "metadata": {
        "colab": {
          "base_uri": "https://localhost:8080/",
          "height": 164
        },
        "id": "qdln_9iH2Bp-",
        "outputId": "bdfede22-5444-4e6c-dc55-f16265c958f5"
      },
      "source": [
        "str1s = [str1[i:i + 2].lower() for i in range(len(str1) - 1) if re.findall('[a-z]{2}', str1[i:i+2].lower())]"
      ],
      "execution_count": 97,
      "outputs": [
        {
          "output_type": "error",
          "ename": "NameError",
          "evalue": "ignored",
          "traceback": [
            "\u001b[0;31m---------------------------------------------------------------------------\u001b[0m",
            "\u001b[0;31mNameError\u001b[0m                                 Traceback (most recent call last)",
            "\u001b[0;32m<ipython-input-97-466d17cf6367>\u001b[0m in \u001b[0;36m<module>\u001b[0;34m()\u001b[0m\n\u001b[0;32m----> 1\u001b[0;31m \u001b[0mstr1s\u001b[0m \u001b[0;34m=\u001b[0m \u001b[0;34m[\u001b[0m\u001b[0mstr1\u001b[0m\u001b[0;34m[\u001b[0m\u001b[0mi\u001b[0m\u001b[0;34m:\u001b[0m\u001b[0mi\u001b[0m \u001b[0;34m+\u001b[0m \u001b[0;36m2\u001b[0m\u001b[0;34m]\u001b[0m\u001b[0;34m.\u001b[0m\u001b[0mlower\u001b[0m\u001b[0;34m(\u001b[0m\u001b[0;34m)\u001b[0m \u001b[0;32mfor\u001b[0m \u001b[0mi\u001b[0m \u001b[0;32min\u001b[0m \u001b[0mrange\u001b[0m\u001b[0;34m(\u001b[0m\u001b[0mlen\u001b[0m\u001b[0;34m(\u001b[0m\u001b[0mstr1\u001b[0m\u001b[0;34m)\u001b[0m \u001b[0;34m-\u001b[0m \u001b[0;36m1\u001b[0m\u001b[0;34m)\u001b[0m \u001b[0;32mif\u001b[0m \u001b[0mre\u001b[0m\u001b[0;34m.\u001b[0m\u001b[0mfindall\u001b[0m\u001b[0;34m(\u001b[0m\u001b[0;34m'[a-z]{2}'\u001b[0m\u001b[0;34m,\u001b[0m \u001b[0mstr1\u001b[0m\u001b[0;34m[\u001b[0m\u001b[0mi\u001b[0m\u001b[0;34m:\u001b[0m\u001b[0mi\u001b[0m\u001b[0;34m+\u001b[0m\u001b[0;36m2\u001b[0m\u001b[0;34m]\u001b[0m\u001b[0;34m.\u001b[0m\u001b[0mlower\u001b[0m\u001b[0;34m(\u001b[0m\u001b[0;34m)\u001b[0m\u001b[0;34m)\u001b[0m\u001b[0;34m]\u001b[0m\u001b[0;34m\u001b[0m\u001b[0;34m\u001b[0m\u001b[0m\n\u001b[0m",
            "\u001b[0;31mNameError\u001b[0m: name 'str1' is not defined"
          ]
        }
      ]
    },
    {
      "cell_type": "code",
      "metadata": {
        "colab": {
          "base_uri": "https://localhost:8080/",
          "height": 215
        },
        "id": "ze4rfA_A2c3O",
        "outputId": "9715a822-2aca-441e-e9fb-3cb6a9f775b2"
      },
      "source": [
        "str1s = [\n",
        "         str1[i:i + 2].lower() for i in range(len(str1) - 1) \n",
        "         if re.findall('[a-z]{2}', str1[i:i+2].lower())\n",
        "]"
      ],
      "execution_count": 98,
      "outputs": [
        {
          "output_type": "error",
          "ename": "NameError",
          "evalue": "ignored",
          "traceback": [
            "\u001b[0;31m---------------------------------------------------------------------------\u001b[0m",
            "\u001b[0;31mNameError\u001b[0m                                 Traceback (most recent call last)",
            "\u001b[0;32m<ipython-input-98-0bda9f2c6d4c>\u001b[0m in \u001b[0;36m<module>\u001b[0;34m()\u001b[0m\n\u001b[1;32m      1\u001b[0m str1s = [\n\u001b[0;32m----> 2\u001b[0;31m          \u001b[0mstr1\u001b[0m\u001b[0;34m[\u001b[0m\u001b[0mi\u001b[0m\u001b[0;34m:\u001b[0m\u001b[0mi\u001b[0m \u001b[0;34m+\u001b[0m \u001b[0;36m2\u001b[0m\u001b[0;34m]\u001b[0m\u001b[0;34m.\u001b[0m\u001b[0mlower\u001b[0m\u001b[0;34m(\u001b[0m\u001b[0;34m)\u001b[0m \u001b[0;32mfor\u001b[0m \u001b[0mi\u001b[0m \u001b[0;32min\u001b[0m \u001b[0mrange\u001b[0m\u001b[0;34m(\u001b[0m\u001b[0mlen\u001b[0m\u001b[0;34m(\u001b[0m\u001b[0mstr1\u001b[0m\u001b[0;34m)\u001b[0m \u001b[0;34m-\u001b[0m \u001b[0;36m1\u001b[0m\u001b[0;34m)\u001b[0m\u001b[0;34m\u001b[0m\u001b[0;34m\u001b[0m\u001b[0m\n\u001b[0m\u001b[1;32m      3\u001b[0m          \u001b[0;32mif\u001b[0m \u001b[0mre\u001b[0m\u001b[0;34m.\u001b[0m\u001b[0mfindall\u001b[0m\u001b[0;34m(\u001b[0m\u001b[0;34m'[a-z]{2}'\u001b[0m\u001b[0;34m,\u001b[0m \u001b[0mstr1\u001b[0m\u001b[0;34m[\u001b[0m\u001b[0mi\u001b[0m\u001b[0;34m:\u001b[0m\u001b[0mi\u001b[0m\u001b[0;34m+\u001b[0m\u001b[0;36m2\u001b[0m\u001b[0;34m]\u001b[0m\u001b[0;34m.\u001b[0m\u001b[0mlower\u001b[0m\u001b[0;34m(\u001b[0m\u001b[0;34m)\u001b[0m\u001b[0;34m)\u001b[0m\u001b[0;34m\u001b[0m\u001b[0;34m\u001b[0m\u001b[0m\n\u001b[1;32m      4\u001b[0m ]\n",
            "\u001b[0;31mNameError\u001b[0m: name 'str1' is not defined"
          ]
        }
      ]
    },
    {
      "cell_type": "code",
      "metadata": {
        "colab": {
          "base_uri": "https://localhost:8080/",
          "height": 215
        },
        "id": "QKBrce8_2UmB",
        "outputId": "6432a3d1-fbf1-4872-fbe1-50a847e08a63"
      },
      "source": [
        "strls = []\n",
        "for i in range(len(str1)-1):\n",
        "  if re.findall('[a-z]{2}', str1[i:i+2].lower()):\n",
        "    strls.append(str1[i:i + 2].lower())"
      ],
      "execution_count": 99,
      "outputs": [
        {
          "output_type": "error",
          "ename": "NameError",
          "evalue": "ignored",
          "traceback": [
            "\u001b[0;31m---------------------------------------------------------------------------\u001b[0m",
            "\u001b[0;31mNameError\u001b[0m                                 Traceback (most recent call last)",
            "\u001b[0;32m<ipython-input-99-6bcac144d399>\u001b[0m in \u001b[0;36m<module>\u001b[0;34m()\u001b[0m\n\u001b[1;32m      1\u001b[0m \u001b[0mstrls\u001b[0m \u001b[0;34m=\u001b[0m \u001b[0;34m[\u001b[0m\u001b[0;34m]\u001b[0m\u001b[0;34m\u001b[0m\u001b[0;34m\u001b[0m\u001b[0m\n\u001b[0;32m----> 2\u001b[0;31m \u001b[0;32mfor\u001b[0m \u001b[0mi\u001b[0m \u001b[0;32min\u001b[0m \u001b[0mrange\u001b[0m\u001b[0;34m(\u001b[0m\u001b[0mlen\u001b[0m\u001b[0;34m(\u001b[0m\u001b[0mstr1\u001b[0m\u001b[0;34m)\u001b[0m\u001b[0;34m-\u001b[0m\u001b[0;36m1\u001b[0m\u001b[0;34m)\u001b[0m\u001b[0;34m:\u001b[0m\u001b[0;34m\u001b[0m\u001b[0;34m\u001b[0m\u001b[0m\n\u001b[0m\u001b[1;32m      3\u001b[0m   \u001b[0;32mif\u001b[0m \u001b[0mre\u001b[0m\u001b[0;34m.\u001b[0m\u001b[0mfindall\u001b[0m\u001b[0;34m(\u001b[0m\u001b[0;34m'[a-z]{2}'\u001b[0m\u001b[0;34m,\u001b[0m \u001b[0mstr1\u001b[0m\u001b[0;34m[\u001b[0m\u001b[0mi\u001b[0m\u001b[0;34m:\u001b[0m\u001b[0mi\u001b[0m\u001b[0;34m+\u001b[0m\u001b[0;36m2\u001b[0m\u001b[0;34m]\u001b[0m\u001b[0;34m.\u001b[0m\u001b[0mlower\u001b[0m\u001b[0;34m(\u001b[0m\u001b[0;34m)\u001b[0m\u001b[0;34m)\u001b[0m\u001b[0;34m:\u001b[0m\u001b[0;34m\u001b[0m\u001b[0;34m\u001b[0m\u001b[0m\n\u001b[1;32m      4\u001b[0m     \u001b[0mstrls\u001b[0m\u001b[0;34m.\u001b[0m\u001b[0mappend\u001b[0m\u001b[0;34m(\u001b[0m\u001b[0mstr1\u001b[0m\u001b[0;34m[\u001b[0m\u001b[0mi\u001b[0m\u001b[0;34m:\u001b[0m\u001b[0mi\u001b[0m \u001b[0;34m+\u001b[0m \u001b[0;36m2\u001b[0m\u001b[0;34m]\u001b[0m\u001b[0;34m.\u001b[0m\u001b[0mlower\u001b[0m\u001b[0;34m(\u001b[0m\u001b[0;34m)\u001b[0m\u001b[0;34m)\u001b[0m\u001b[0;34m\u001b[0m\u001b[0;34m\u001b[0m\u001b[0m\n",
            "\u001b[0;31mNameError\u001b[0m: name 'str1' is not defined"
          ]
        }
      ]
    },
    {
      "cell_type": "code",
      "metadata": {
        "id": "noK_EoR12gCD"
      },
      "source": [
        "return [(x,y,z)\n",
        "        for x in range(5)\n",
        "        for y in range(5)\n",
        "        if x != y\n",
        "        for z in rnage(5)\n",
        "        if y != z]"
      ],
      "execution_count": null,
      "outputs": []
    },
    {
      "cell_type": "markdown",
      "metadata": {
        "id": "utChIv1T2kQc"
      },
      "source": [
        "pp.95-96 구글 파이썬 스타일 가이드 "
      ]
    },
    {
      "cell_type": "code",
      "metadata": {
        "colab": {
          "base_uri": "https://localhost:8080/",
          "height": 130
        },
        "id": "VPWhmqt52jbh",
        "outputId": "05db8512-3825-40ba-9b73-fe5c5290cfa1"
      },
      "source": [
        "No: def foo(a, b=[]):\n",
        "No: def foo(a, b: Mappong = {}):\n",
        "\n",
        "Yes: def foo(a, b=None):\n",
        "         if b is None:\n",
        "             b = []\n",
        "Yes: def foo(a, b: Optional[Sequence] = None):\n",
        "         if b is None:\n",
        "             b = []"
      ],
      "execution_count": 100,
      "outputs": [
        {
          "output_type": "error",
          "ename": "SyntaxError",
          "evalue": "ignored",
          "traceback": [
            "\u001b[0;36m  File \u001b[0;32m\"<ipython-input-100-1148ff02dc49>\"\u001b[0;36m, line \u001b[0;32m1\u001b[0m\n\u001b[0;31m    No: def foo(a, b=[]):\u001b[0m\n\u001b[0m          ^\u001b[0m\n\u001b[0;31mSyntaxError\u001b[0m\u001b[0;31m:\u001b[0m invalid syntax\n"
          ]
        }
      ]
    },
    {
      "cell_type": "code",
      "metadata": {
        "colab": {
          "base_uri": "https://localhost:8080/",
          "height": 130
        },
        "id": "6MQNWEIn24ce",
        "outputId": "fe521795-90c4-4e20-f96b-ca2c14666115"
      },
      "source": [
        "Yes: if not users:\n",
        "         print('no users')\n",
        "\n",
        "     if foo == 0: \n",
        "         self.handle_zero()\n",
        "\n",
        "     if i % 10 == 0: \n",
        "         self.handle_multiple_of_ten()\n",
        "\n",
        "No: if len(users) == 0:\n",
        "        print('no users')\n",
        "\n",
        "    if foo is not None and not foo: \n",
        "        self.handle_zero()\n",
        "\n",
        "    if not i % 10:\n",
        "        self.handle_multiple_of_ten()"
      ],
      "execution_count": 101,
      "outputs": [
        {
          "output_type": "error",
          "ename": "SyntaxError",
          "evalue": "ignored",
          "traceback": [
            "\u001b[0;36m  File \u001b[0;32m\"<ipython-input-101-5b49cb17be2a>\"\u001b[0;36m, line \u001b[0;32m1\u001b[0m\n\u001b[0;31m    Yes: if not users:\u001b[0m\n\u001b[0m          ^\u001b[0m\n\u001b[0;31mSyntaxError\u001b[0m\u001b[0;31m:\u001b[0m invalid syntax\n"
          ]
        }
      ]
    },
    {
      "cell_type": "markdown",
      "metadata": {
        "id": "lYDNpbPD3GAk"
      },
      "source": [
        "p. 97 파이썬 철학"
      ]
    },
    {
      "cell_type": "code",
      "metadata": {
        "colab": {
          "base_uri": "https://localhost:8080/"
        },
        "id": "ziKKVRcv3FcD",
        "outputId": "061a5f37-68dc-449d-b1cd-53edff8cfc91"
      },
      "source": [
        "import this"
      ],
      "execution_count": 102,
      "outputs": [
        {
          "output_type": "stream",
          "text": [
            "The Zen of Python, by Tim Peters\n",
            "\n",
            "Beautiful is better than ugly.\n",
            "Explicit is better than implicit.\n",
            "Simple is better than complex.\n",
            "Complex is better than complicated.\n",
            "Flat is better than nested.\n",
            "Sparse is better than dense.\n",
            "Readability counts.\n",
            "Special cases aren't special enough to break the rules.\n",
            "Although practicality beats purity.\n",
            "Errors should never pass silently.\n",
            "Unless explicitly silenced.\n",
            "In the face of ambiguity, refuse the temptation to guess.\n",
            "There should be one-- and preferably only one --obvious way to do it.\n",
            "Although that way may not be obvious at first unless you're Dutch.\n",
            "Now is better than never.\n",
            "Although never is often better than *right* now.\n",
            "If the implementation is hard to explain, it's a bad idea.\n",
            "If the implementation is easy to explain, it may be a good idea.\n",
            "Namespaces are one honking great idea -- let's do more of those!\n"
          ],
          "name": "stdout"
        }
      ]
    },
    {
      "cell_type": "markdown",
      "metadata": {
        "id": "Pr7SzdWb3MVh"
      },
      "source": [
        "p.102 빅오"
      ]
    },
    {
      "cell_type": "code",
      "metadata": {
        "colab": {
          "base_uri": "https://localhost:8080/"
        },
        "id": "SokBsIh3269f",
        "outputId": "f8221754-1481-40e9-808c-1e716c0ec877"
      },
      "source": [
        "for n in range(1, 15 + 1):\n",
        "  print(n, n ** 2, 2 ** n)"
      ],
      "execution_count": 103,
      "outputs": [
        {
          "output_type": "stream",
          "text": [
            "1 1 2\n",
            "2 4 4\n",
            "3 9 8\n",
            "4 16 16\n",
            "5 25 32\n",
            "6 36 64\n",
            "7 49 128\n",
            "8 64 256\n",
            "9 81 512\n",
            "10 100 1024\n",
            "11 121 2048\n",
            "12 144 4096\n",
            "13 169 8192\n",
            "14 196 16384\n",
            "15 225 32768\n"
          ],
          "name": "stdout"
        }
      ]
    },
    {
      "cell_type": "markdown",
      "metadata": {
        "id": "k6EpMss33Wfr"
      },
      "source": [
        "pp.107-120 파이썬 자료형"
      ]
    },
    {
      "cell_type": "code",
      "metadata": {
        "colab": {
          "base_uri": "https://localhost:8080/"
        },
        "id": "wXtxtR3W3fZE",
        "outputId": "0a15d4cb-d33f-405b-93bf-31fd4a2e50f4"
      },
      "source": [
        "True == 1"
      ],
      "execution_count": 105,
      "outputs": [
        {
          "output_type": "execute_result",
          "data": {
            "text/plain": [
              "True"
            ]
          },
          "metadata": {
            "tags": []
          },
          "execution_count": 105
        }
      ]
    },
    {
      "cell_type": "code",
      "metadata": {
        "colab": {
          "base_uri": "https://localhost:8080/"
        },
        "id": "JV1dMHcX3Ss8",
        "outputId": "4bd02a7a-806e-4c8e-8866-11b3b25f18c2"
      },
      "source": [
        "False == 0"
      ],
      "execution_count": 106,
      "outputs": [
        {
          "output_type": "execute_result",
          "data": {
            "text/plain": [
              "True"
            ]
          },
          "metadata": {
            "tags": []
          },
          "execution_count": 106
        }
      ]
    },
    {
      "cell_type": "code",
      "metadata": {
        "colab": {
          "base_uri": "https://localhost:8080/"
        },
        "id": "Kgy4NxOI3kII",
        "outputId": "7311f85c-f047-45d0-d293-3fd68c55e55f"
      },
      "source": [
        "a = set()\n",
        "a"
      ],
      "execution_count": 107,
      "outputs": [
        {
          "output_type": "execute_result",
          "data": {
            "text/plain": [
              "set()"
            ]
          },
          "metadata": {
            "tags": []
          },
          "execution_count": 107
        }
      ]
    },
    {
      "cell_type": "code",
      "metadata": {
        "colab": {
          "base_uri": "https://localhost:8080/"
        },
        "id": "P4vp38wD3u5b",
        "outputId": "aad51d37-f1e1-4f11-e531-eb0ca56fb654"
      },
      "source": [
        "type(a)"
      ],
      "execution_count": 108,
      "outputs": [
        {
          "output_type": "execute_result",
          "data": {
            "text/plain": [
              "set"
            ]
          },
          "metadata": {
            "tags": []
          },
          "execution_count": 108
        }
      ]
    },
    {
      "cell_type": "code",
      "metadata": {
        "colab": {
          "base_uri": "https://localhost:8080/"
        },
        "id": "_tw_buYW3yII",
        "outputId": "783ca864-a325-429d-e2eb-2303d0d18957"
      },
      "source": [
        "a = {'a', 'b', 'c'}\n",
        "type(a)"
      ],
      "execution_count": 109,
      "outputs": [
        {
          "output_type": "execute_result",
          "data": {
            "text/plain": [
              "set"
            ]
          },
          "metadata": {
            "tags": []
          },
          "execution_count": 109
        }
      ]
    },
    {
      "cell_type": "code",
      "metadata": {
        "colab": {
          "base_uri": "https://localhost:8080/"
        },
        "id": "fkpkHFZ630Ab",
        "outputId": "48c62052-31bf-47a8-aeb6-38ce39b0724d"
      },
      "source": [
        "a = {'a':'A', 'b':'B', 'c':'C'}\n",
        "type(a)"
      ],
      "execution_count": 110,
      "outputs": [
        {
          "output_type": "execute_result",
          "data": {
            "text/plain": [
              "dict"
            ]
          },
          "metadata": {
            "tags": []
          },
          "execution_count": 110
        }
      ]
    },
    {
      "cell_type": "code",
      "metadata": {
        "colab": {
          "base_uri": "https://localhost:8080/"
        },
        "id": "mIxFROPT31Ti",
        "outputId": "5fe61ca5-4543-4f6e-f29d-24571f87b9d4"
      },
      "source": [
        "a = {3,2,3,5}\n",
        "a"
      ],
      "execution_count": 111,
      "outputs": [
        {
          "output_type": "execute_result",
          "data": {
            "text/plain": [
              "{2, 3, 5}"
            ]
          },
          "metadata": {
            "tags": []
          },
          "execution_count": 111
        }
      ]
    },
    {
      "cell_type": "code",
      "metadata": {
        "colab": {
          "base_uri": "https://localhost:8080/"
        },
        "id": "hNUR1paz32as",
        "outputId": "22d5a020-21e4-4bd4-d793-4adf4797349e"
      },
      "source": [
        "a = 'abc'\n",
        "a = 'def'\n",
        "type(a)"
      ],
      "execution_count": 112,
      "outputs": [
        {
          "output_type": "execute_result",
          "data": {
            "text/plain": [
              "str"
            ]
          },
          "metadata": {
            "tags": []
          },
          "execution_count": 112
        }
      ]
    },
    {
      "cell_type": "code",
      "metadata": {
        "colab": {
          "base_uri": "https://localhost:8080/"
        },
        "id": "0JpqGTBn34Nh",
        "outputId": "9555db43-989b-4f02-96ef-828a10906d02"
      },
      "source": [
        "a = 'abc'\n",
        "id('abc')"
      ],
      "execution_count": 113,
      "outputs": [
        {
          "output_type": "execute_result",
          "data": {
            "text/plain": [
              "140158847396976"
            ]
          },
          "metadata": {
            "tags": []
          },
          "execution_count": 113
        }
      ]
    },
    {
      "cell_type": "code",
      "metadata": {
        "colab": {
          "base_uri": "https://localhost:8080/"
        },
        "id": "WhJVn65X37BA",
        "outputId": "eabd8a47-7b91-4317-f0e4-e6d9d5cc04e4"
      },
      "source": [
        "id(a)"
      ],
      "execution_count": 114,
      "outputs": [
        {
          "output_type": "execute_result",
          "data": {
            "text/plain": [
              "140158847396976"
            ]
          },
          "metadata": {
            "tags": []
          },
          "execution_count": 114
        }
      ]
    },
    {
      "cell_type": "code",
      "metadata": {
        "colab": {
          "base_uri": "https://localhost:8080/"
        },
        "id": "pdfH9GTo38L-",
        "outputId": "d1a74e1e-8baf-4169-c689-280e8a46853f"
      },
      "source": [
        "a = 'def'\n",
        "id('def')"
      ],
      "execution_count": 115,
      "outputs": [
        {
          "output_type": "execute_result",
          "data": {
            "text/plain": [
              "140158846541552"
            ]
          },
          "metadata": {
            "tags": []
          },
          "execution_count": 115
        }
      ]
    },
    {
      "cell_type": "code",
      "metadata": {
        "colab": {
          "base_uri": "https://localhost:8080/"
        },
        "id": "ZNUgEEjF39IB",
        "outputId": "007d6720-7911-4852-e0d8-ec41b63ecffa"
      },
      "source": [
        "id(a)"
      ],
      "execution_count": 116,
      "outputs": [
        {
          "output_type": "execute_result",
          "data": {
            "text/plain": [
              "140158846541552"
            ]
          },
          "metadata": {
            "tags": []
          },
          "execution_count": 116
        }
      ]
    },
    {
      "cell_type": "code",
      "metadata": {
        "colab": {
          "base_uri": "https://localhost:8080/",
          "height": 164
        },
        "id": "3esjhQhq3-S7",
        "outputId": "8dbf83cc-1cbe-40b5-f063-d5d42de9700f"
      },
      "source": [
        "a[1] = 'd'"
      ],
      "execution_count": 117,
      "outputs": [
        {
          "output_type": "error",
          "ename": "TypeError",
          "evalue": "ignored",
          "traceback": [
            "\u001b[0;31m---------------------------------------------------------------------------\u001b[0m",
            "\u001b[0;31mTypeError\u001b[0m                                 Traceback (most recent call last)",
            "\u001b[0;32m<ipython-input-117-8d872f916c18>\u001b[0m in \u001b[0;36m<module>\u001b[0;34m()\u001b[0m\n\u001b[0;32m----> 1\u001b[0;31m \u001b[0ma\u001b[0m\u001b[0;34m[\u001b[0m\u001b[0;36m1\u001b[0m\u001b[0;34m]\u001b[0m \u001b[0;34m=\u001b[0m \u001b[0;34m'd'\u001b[0m\u001b[0;34m\u001b[0m\u001b[0;34m\u001b[0m\u001b[0m\n\u001b[0m",
            "\u001b[0;31mTypeError\u001b[0m: 'str' object does not support item assignment"
          ]
        }
      ]
    },
    {
      "cell_type": "code",
      "metadata": {
        "colab": {
          "base_uri": "https://localhost:8080/"
        },
        "id": "f-0Ua0GX4Hk9",
        "outputId": "f0bd3de5-378e-4f13-c1ed-d43dc7fd4f72"
      },
      "source": [
        "10\n",
        "a = 10\n",
        "b = a\n",
        "id(10), id(a), id(b)"
      ],
      "execution_count": 119,
      "outputs": [
        {
          "output_type": "execute_result",
          "data": {
            "text/plain": [
              "(93869753989920, 93869753989920, 93869753989920)"
            ]
          },
          "metadata": {
            "tags": []
          },
          "execution_count": 119
        }
      ]
    },
    {
      "cell_type": "code",
      "metadata": {
        "colab": {
          "base_uri": "https://localhost:8080/"
        },
        "id": "qTdWRMvu4JF9",
        "outputId": "6c592f79-66ff-45d8-fa25-d0e54c8ef1ad"
      },
      "source": [
        "a = [1, 2, 3, 4, 5]\n",
        "b = a\n",
        "b"
      ],
      "execution_count": 120,
      "outputs": [
        {
          "output_type": "execute_result",
          "data": {
            "text/plain": [
              "[1, 2, 3, 4, 5]"
            ]
          },
          "metadata": {
            "tags": []
          },
          "execution_count": 120
        }
      ]
    },
    {
      "cell_type": "code",
      "metadata": {
        "colab": {
          "base_uri": "https://localhost:8080/"
        },
        "id": "TB9C8xcE4KiN",
        "outputId": "8857ade6-d516-4b00-b32f-f76d8d115d07"
      },
      "source": [
        "a[2] = 4\n",
        "a"
      ],
      "execution_count": 121,
      "outputs": [
        {
          "output_type": "execute_result",
          "data": {
            "text/plain": [
              "[1, 2, 4, 4, 5]"
            ]
          },
          "metadata": {
            "tags": []
          },
          "execution_count": 121
        }
      ]
    },
    {
      "cell_type": "code",
      "metadata": {
        "colab": {
          "base_uri": "https://localhost:8080/"
        },
        "id": "NQlF-RhZ4M4z",
        "outputId": "298ef6ac-a9d2-4dfe-de6d-45a7efc4689f"
      },
      "source": [
        "b"
      ],
      "execution_count": 122,
      "outputs": [
        {
          "output_type": "execute_result",
          "data": {
            "text/plain": [
              "[1, 2, 4, 4, 5]"
            ]
          },
          "metadata": {
            "tags": []
          },
          "execution_count": 122
        }
      ]
    },
    {
      "cell_type": "code",
      "metadata": {
        "colab": {
          "base_uri": "https://localhost:8080/"
        },
        "id": "popfVS-h4OQn",
        "outputId": "5effb85b-249a-40b3-9288-b14971c007b7"
      },
      "source": [
        "a = 10\n",
        "b = a\n",
        "id(a), id(b)"
      ],
      "execution_count": 123,
      "outputs": [
        {
          "output_type": "execute_result",
          "data": {
            "text/plain": [
              "(93869753989920, 93869753989920)"
            ]
          },
          "metadata": {
            "tags": []
          },
          "execution_count": 123
        }
      ]
    },
    {
      "cell_type": "code",
      "metadata": {
        "id": "OpvWpPHl4POa"
      },
      "source": [
        "a = [1, 2, 3]\n",
        "b = a"
      ],
      "execution_count": 124,
      "outputs": []
    },
    {
      "cell_type": "code",
      "metadata": {
        "colab": {
          "base_uri": "https://localhost:8080/"
        },
        "id": "o7aLIyLN4TKE",
        "outputId": "65a63e94-93fa-4564-e25c-4db05fcfa7b9"
      },
      "source": [
        "id(a), id(b)"
      ],
      "execution_count": 125,
      "outputs": [
        {
          "output_type": "execute_result",
          "data": {
            "text/plain": [
              "(140158288849648, 140158288849648)"
            ]
          },
          "metadata": {
            "tags": []
          },
          "execution_count": 125
        }
      ]
    },
    {
      "cell_type": "code",
      "metadata": {
        "colab": {
          "base_uri": "https://localhost:8080/"
        },
        "id": "8RHFbInp4UiK",
        "outputId": "2a4b8afe-002e-4975-ec5e-f69631202b5b"
      },
      "source": [
        "b[2] = 5\n",
        "a, id(a), id(b)"
      ],
      "execution_count": 126,
      "outputs": [
        {
          "output_type": "execute_result",
          "data": {
            "text/plain": [
              "([1, 2, 5], 140158288849648, 140158288849648)"
            ]
          },
          "metadata": {
            "tags": []
          },
          "execution_count": 126
        }
      ]
    },
    {
      "cell_type": "code",
      "metadata": {
        "id": "98CAOGzK4WR0"
      },
      "source": [
        "if a is None:\n",
        "    pass"
      ],
      "execution_count": 127,
      "outputs": []
    },
    {
      "cell_type": "code",
      "metadata": {
        "colab": {
          "base_uri": "https://localhost:8080/"
        },
        "id": "P9QvEJgS4Xyc",
        "outputId": "71237910-2bc2-4614-9b0b-c50a515e981c"
      },
      "source": [
        "a = [1, 2, 3]\n",
        "a == a"
      ],
      "execution_count": 128,
      "outputs": [
        {
          "output_type": "execute_result",
          "data": {
            "text/plain": [
              "True"
            ]
          },
          "metadata": {
            "tags": []
          },
          "execution_count": 128
        }
      ]
    },
    {
      "cell_type": "code",
      "metadata": {
        "colab": {
          "base_uri": "https://localhost:8080/"
        },
        "id": "VbLv2GMs4Yxj",
        "outputId": "1791ea32-1a04-414c-9bde-b1edcf01fb32"
      },
      "source": [
        "a == list(a)"
      ],
      "execution_count": 129,
      "outputs": [
        {
          "output_type": "execute_result",
          "data": {
            "text/plain": [
              "True"
            ]
          },
          "metadata": {
            "tags": []
          },
          "execution_count": 129
        }
      ]
    },
    {
      "cell_type": "code",
      "metadata": {
        "colab": {
          "base_uri": "https://localhost:8080/"
        },
        "id": "49v7xcMp4ah0",
        "outputId": "482ad299-a542-4138-84bd-2f9c8dec9914"
      },
      "source": [
        "a is a"
      ],
      "execution_count": 130,
      "outputs": [
        {
          "output_type": "execute_result",
          "data": {
            "text/plain": [
              "True"
            ]
          },
          "metadata": {
            "tags": []
          },
          "execution_count": 130
        }
      ]
    },
    {
      "cell_type": "code",
      "metadata": {
        "colab": {
          "base_uri": "https://localhost:8080/"
        },
        "id": "WvSIjumn4bj9",
        "outputId": "1f8a4019-fb85-40c1-b200-673d767af38e"
      },
      "source": [
        "a is list(a)"
      ],
      "execution_count": 131,
      "outputs": [
        {
          "output_type": "execute_result",
          "data": {
            "text/plain": [
              "False"
            ]
          },
          "metadata": {
            "tags": []
          },
          "execution_count": 131
        }
      ]
    },
    {
      "cell_type": "code",
      "metadata": {
        "colab": {
          "base_uri": "https://localhost:8080/"
        },
        "id": "c_PFSC5p4dEW",
        "outputId": "60c09e11-7426-4af6-be7c-fcbdd0c598a5"
      },
      "source": [
        "import copy\n",
        "a = [1,2,3]\n",
        "a == copy.deepcopy(a)"
      ],
      "execution_count": 132,
      "outputs": [
        {
          "output_type": "execute_result",
          "data": {
            "text/plain": [
              "True"
            ]
          },
          "metadata": {
            "tags": []
          },
          "execution_count": 132
        }
      ]
    },
    {
      "cell_type": "code",
      "metadata": {
        "colab": {
          "base_uri": "https://localhost:8080/"
        },
        "id": "pX_UciVC4eXo",
        "outputId": "2dbed723-2c19-4e8b-cf13-b8887fc5d404"
      },
      "source": [
        "a is copy.deepcopy(a)"
      ],
      "execution_count": 133,
      "outputs": [
        {
          "output_type": "execute_result",
          "data": {
            "text/plain": [
              "False"
            ]
          },
          "metadata": {
            "tags": []
          },
          "execution_count": 133
        }
      ]
    }
  ]
}