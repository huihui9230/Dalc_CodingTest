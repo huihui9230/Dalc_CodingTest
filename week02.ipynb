{
  "nbformat": 4,
  "nbformat_minor": 0,
  "metadata": {
    "colab": {
      "name": "week02.ipynb",
      "provenance": [],
      "authorship_tag": "ABX9TyMq7vWVfw8q5MFNgsJSzS/K",
      "include_colab_link": true
    },
    "kernelspec": {
      "name": "python3",
      "display_name": "Python 3"
    },
    "language_info": {
      "name": "python"
    }
  },
  "cells": [
    {
      "cell_type": "markdown",
      "metadata": {
        "id": "view-in-github",
        "colab_type": "text"
      },
      "source": [
        "<a href=\"https://colab.research.google.com/github/huihui9230/Dalc_CodingTest/blob/hyeonseo/week02.ipynb\" target=\"_parent\"><img src=\"https://colab.research.google.com/assets/colab-badge.svg\" alt=\"Open In Colab\"/></a>"
      ]
    },
    {
      "cell_type": "markdown",
      "metadata": {
        "id": "ctqDxCT-2CFh"
      },
      "source": [
        "<h1>5장 리스트(List)</h1>"
      ]
    },
    {
      "cell_type": "code",
      "metadata": {
        "id": "-wxWfkax2FTH"
      },
      "source": [
        "a = list()\n",
        "a = []"
      ],
      "execution_count": 1,
      "outputs": []
    },
    {
      "cell_type": "code",
      "metadata": {
        "colab": {
          "base_uri": "https://localhost:8080/"
        },
        "id": "ikp2c--W2U9f",
        "outputId": "73211da2-8f2d-46c5-cb39-e62e910c1e65"
      },
      "source": [
        "a = [1, 2, 3]\n",
        "a"
      ],
      "execution_count": 2,
      "outputs": [
        {
          "output_type": "execute_result",
          "data": {
            "text/plain": [
              "[1, 2, 3]"
            ]
          },
          "metadata": {
            "tags": []
          },
          "execution_count": 2
        }
      ]
    },
    {
      "cell_type": "code",
      "metadata": {
        "colab": {
          "base_uri": "https://localhost:8080/"
        },
        "id": "dBMAZFOp2XgJ",
        "outputId": "3c9b5657-61e9-4b75-a80b-2011cba8ad1e"
      },
      "source": [
        "a.append(4)\n",
        "a"
      ],
      "execution_count": 3,
      "outputs": [
        {
          "output_type": "execute_result",
          "data": {
            "text/plain": [
              "[1, 2, 3, 4]"
            ]
          },
          "metadata": {
            "tags": []
          },
          "execution_count": 3
        }
      ]
    },
    {
      "cell_type": "code",
      "metadata": {
        "colab": {
          "base_uri": "https://localhost:8080/"
        },
        "id": "Yfifpk672YzB",
        "outputId": "f5cfef43-4007-481c-ef64-d9602759502c"
      },
      "source": [
        "a.insert(3, 5)\n",
        "a"
      ],
      "execution_count": 4,
      "outputs": [
        {
          "output_type": "execute_result",
          "data": {
            "text/plain": [
              "[1, 2, 3, 5, 4]"
            ]
          },
          "metadata": {
            "tags": []
          },
          "execution_count": 4
        }
      ]
    },
    {
      "cell_type": "code",
      "metadata": {
        "colab": {
          "base_uri": "https://localhost:8080/"
        },
        "id": "wKJfuCpO2aHJ",
        "outputId": "6e4b209e-62b6-48fe-fb66-ff383e984ca3"
      },
      "source": [
        "a.append('안녕')\n",
        "a.append(True)\n",
        "a"
      ],
      "execution_count": 5,
      "outputs": [
        {
          "output_type": "execute_result",
          "data": {
            "text/plain": [
              "[1, 2, 3, 5, 4, '안녕', True]"
            ]
          },
          "metadata": {
            "tags": []
          },
          "execution_count": 5
        }
      ]
    },
    {
      "cell_type": "code",
      "metadata": {
        "colab": {
          "base_uri": "https://localhost:8080/"
        },
        "id": "ZoFMHoU02cN-",
        "outputId": "a02ca70f-2578-422f-83d3-7aaf63f2eed8"
      },
      "source": [
        "a[3]"
      ],
      "execution_count": 6,
      "outputs": [
        {
          "output_type": "execute_result",
          "data": {
            "text/plain": [
              "5"
            ]
          },
          "metadata": {
            "tags": []
          },
          "execution_count": 6
        }
      ]
    },
    {
      "cell_type": "code",
      "metadata": {
        "colab": {
          "base_uri": "https://localhost:8080/"
        },
        "id": "1E2F6Je62d_r",
        "outputId": "73a3835e-34bf-4496-88b0-9b7604cc79a2"
      },
      "source": [
        "a[1:3]"
      ],
      "execution_count": 7,
      "outputs": [
        {
          "output_type": "execute_result",
          "data": {
            "text/plain": [
              "[2, 3]"
            ]
          },
          "metadata": {
            "tags": []
          },
          "execution_count": 7
        }
      ]
    },
    {
      "cell_type": "code",
      "metadata": {
        "colab": {
          "base_uri": "https://localhost:8080/"
        },
        "id": "wZcYquGQ2rYa",
        "outputId": "ae96b0ce-dcec-4e7c-820c-9cd9990e2ffa"
      },
      "source": [
        "a[:3]"
      ],
      "execution_count": 8,
      "outputs": [
        {
          "output_type": "execute_result",
          "data": {
            "text/plain": [
              "[1, 2, 3]"
            ]
          },
          "metadata": {
            "tags": []
          },
          "execution_count": 8
        }
      ]
    },
    {
      "cell_type": "code",
      "metadata": {
        "colab": {
          "base_uri": "https://localhost:8080/"
        },
        "id": "Y72_zuxs2uGX",
        "outputId": "d799acef-f8a9-4233-a1d3-a93701ab7467"
      },
      "source": [
        "a[4:]"
      ],
      "execution_count": 9,
      "outputs": [
        {
          "output_type": "execute_result",
          "data": {
            "text/plain": [
              "[4, '안녕', True]"
            ]
          },
          "metadata": {
            "tags": []
          },
          "execution_count": 9
        }
      ]
    },
    {
      "cell_type": "code",
      "metadata": {
        "colab": {
          "base_uri": "https://localhost:8080/"
        },
        "id": "zi9c6sGO2yOP",
        "outputId": "3f772e74-6688-4596-85fa-a212aeed0122"
      },
      "source": [
        "a[1:4]"
      ],
      "execution_count": 10,
      "outputs": [
        {
          "output_type": "execute_result",
          "data": {
            "text/plain": [
              "[2, 3, 5]"
            ]
          },
          "metadata": {
            "tags": []
          },
          "execution_count": 10
        }
      ]
    },
    {
      "cell_type": "code",
      "metadata": {
        "colab": {
          "base_uri": "https://localhost:8080/"
        },
        "id": "Nhgkl9n9209l",
        "outputId": "3dda3edf-607e-440f-c017-edcff49f919f"
      },
      "source": [
        "a[1:4:2]"
      ],
      "execution_count": 11,
      "outputs": [
        {
          "output_type": "execute_result",
          "data": {
            "text/plain": [
              "[2, 5]"
            ]
          },
          "metadata": {
            "tags": []
          },
          "execution_count": 11
        }
      ]
    },
    {
      "cell_type": "code",
      "metadata": {
        "colab": {
          "base_uri": "https://localhost:8080/",
          "height": 164
        },
        "id": "bKQ_1UE5264g",
        "outputId": "35f76254-774f-47ae-aab0-eb5c46e8a201"
      },
      "source": [
        "a[9]"
      ],
      "execution_count": 12,
      "outputs": [
        {
          "output_type": "error",
          "ename": "IndexError",
          "evalue": "ignored",
          "traceback": [
            "\u001b[0;31m---------------------------------------------------------------------------\u001b[0m",
            "\u001b[0;31mIndexError\u001b[0m                                Traceback (most recent call last)",
            "\u001b[0;32m<ipython-input-12-044f1ccc0778>\u001b[0m in \u001b[0;36m<module>\u001b[0;34m()\u001b[0m\n\u001b[0;32m----> 1\u001b[0;31m \u001b[0ma\u001b[0m\u001b[0;34m[\u001b[0m\u001b[0;36m9\u001b[0m\u001b[0;34m]\u001b[0m\u001b[0;34m\u001b[0m\u001b[0;34m\u001b[0m\u001b[0m\n\u001b[0m",
            "\u001b[0;31mIndexError\u001b[0m: list index out of range"
          ]
        }
      ]
    },
    {
      "cell_type": "code",
      "metadata": {
        "colab": {
          "base_uri": "https://localhost:8080/"
        },
        "id": "GCeGJu-R28ii",
        "outputId": "9564c0f7-f530-43a8-a5ec-312eff048cb8"
      },
      "source": [
        "try:\n",
        "    print(a[9])\n",
        "except IndexError:\n",
        "    print('존재하지 않는 인덱스')"
      ],
      "execution_count": 15,
      "outputs": [
        {
          "output_type": "stream",
          "text": [
            "존재하지 않는 인덱스\n"
          ],
          "name": "stdout"
        }
      ]
    },
    {
      "cell_type": "code",
      "metadata": {
        "colab": {
          "base_uri": "https://localhost:8080/"
        },
        "id": "cDay2hb52_73",
        "outputId": "38682511-6515-434c-b0bd-408c8be397e6"
      },
      "source": [
        "# 인덱스 위치에 있는 값 삭제  - del 키워드 사용\n",
        "a"
      ],
      "execution_count": 16,
      "outputs": [
        {
          "output_type": "execute_result",
          "data": {
            "text/plain": [
              "[1, 2, 3, 5, 4, '안녕', True]"
            ]
          },
          "metadata": {
            "tags": []
          },
          "execution_count": 16
        }
      ]
    },
    {
      "cell_type": "code",
      "metadata": {
        "colab": {
          "base_uri": "https://localhost:8080/"
        },
        "id": "vOLBzZ2n3C47",
        "outputId": "98452486-2159-4f00-f1fe-5dd26c6f4b55"
      },
      "source": [
        "del a[1]\n",
        "a"
      ],
      "execution_count": 17,
      "outputs": [
        {
          "output_type": "execute_result",
          "data": {
            "text/plain": [
              "[1, 3, 5, 4, '안녕', True]"
            ]
          },
          "metadata": {
            "tags": []
          },
          "execution_count": 17
        }
      ]
    },
    {
      "cell_type": "code",
      "metadata": {
        "colab": {
          "base_uri": "https://localhost:8080/"
        },
        "id": "vdu149vd3GWL",
        "outputId": "8ab55706-f539-467d-9805-1191b4ce20d2"
      },
      "source": [
        "a"
      ],
      "execution_count": 18,
      "outputs": [
        {
          "output_type": "execute_result",
          "data": {
            "text/plain": [
              "[1, 3, 5, 4, '안녕', True]"
            ]
          },
          "metadata": {
            "tags": []
          },
          "execution_count": 18
        }
      ]
    },
    {
      "cell_type": "code",
      "metadata": {
        "id": "L7BFUv513KaG"
      },
      "source": [
        "a.remove(3)"
      ],
      "execution_count": 19,
      "outputs": []
    },
    {
      "cell_type": "code",
      "metadata": {
        "colab": {
          "base_uri": "https://localhost:8080/"
        },
        "id": "xWjG1dZ83MEp",
        "outputId": "48436a7f-dc4f-4d8a-812c-555c82bd46db"
      },
      "source": [
        "a"
      ],
      "execution_count": 20,
      "outputs": [
        {
          "output_type": "execute_result",
          "data": {
            "text/plain": [
              "[1, 5, 4, '안녕', True]"
            ]
          },
          "metadata": {
            "tags": []
          },
          "execution_count": 20
        }
      ]
    },
    {
      "cell_type": "code",
      "metadata": {
        "colab": {
          "base_uri": "https://localhost:8080/"
        },
        "id": "H0CMtiX63N8S",
        "outputId": "faae3432-1994-4d8d-cd0b-79077a4bad78"
      },
      "source": [
        "a"
      ],
      "execution_count": 21,
      "outputs": [
        {
          "output_type": "execute_result",
          "data": {
            "text/plain": [
              "[1, 5, 4, '안녕', True]"
            ]
          },
          "metadata": {
            "tags": []
          },
          "execution_count": 21
        }
      ]
    },
    {
      "cell_type": "code",
      "metadata": {
        "colab": {
          "base_uri": "https://localhost:8080/",
          "height": 37
        },
        "id": "KQAwTp923PZZ",
        "outputId": "482cee10-66bd-4a09-ec0b-33e059004c5d"
      },
      "source": [
        "a.pop(3)"
      ],
      "execution_count": 22,
      "outputs": [
        {
          "output_type": "execute_result",
          "data": {
            "application/vnd.google.colaboratory.intrinsic+json": {
              "type": "string"
            },
            "text/plain": [
              "'안녕'"
            ]
          },
          "metadata": {
            "tags": []
          },
          "execution_count": 22
        }
      ]
    },
    {
      "cell_type": "code",
      "metadata": {
        "colab": {
          "base_uri": "https://localhost:8080/"
        },
        "id": "QlU5S0Wg3RwH",
        "outputId": "ac72d8e3-3f2e-44cb-c691-8646864a37e6"
      },
      "source": [
        "a"
      ],
      "execution_count": 23,
      "outputs": [
        {
          "output_type": "execute_result",
          "data": {
            "text/plain": [
              "[1, 5, 4, True]"
            ]
          },
          "metadata": {
            "tags": []
          },
          "execution_count": 23
        }
      ]
    },
    {
      "cell_type": "code",
      "metadata": {
        "colab": {
          "base_uri": "https://localhost:8080/"
        },
        "id": "JOFi1Ad43TR8",
        "outputId": "a9266b06-f91c-4753-a0ed-93e93402f618"
      },
      "source": [
        "a = [1, 2, 3]\n",
        "a"
      ],
      "execution_count": 24,
      "outputs": [
        {
          "output_type": "execute_result",
          "data": {
            "text/plain": [
              "[1, 2, 3]"
            ]
          },
          "metadata": {
            "tags": []
          },
          "execution_count": 24
        }
      ]
    },
    {
      "cell_type": "code",
      "metadata": {
        "colab": {
          "base_uri": "https://localhost:8080/"
        },
        "id": "immqcycJ3TJR",
        "outputId": "2a3c34d2-0c36-4db5-ade0-66cba89689f7"
      },
      "source": [
        "a = [1, '안녕', True]\n",
        "a"
      ],
      "execution_count": 25,
      "outputs": [
        {
          "output_type": "execute_result",
          "data": {
            "text/plain": [
              "[1, '안녕', True]"
            ]
          },
          "metadata": {
            "tags": []
          },
          "execution_count": 25
        }
      ]
    },
    {
      "cell_type": "markdown",
      "metadata": {
        "id": "tXKbCf0o3XaH"
      },
      "source": [
        "딕셔너리"
      ]
    },
    {
      "cell_type": "code",
      "metadata": {
        "id": "4o5647Jn3XGi"
      },
      "source": [
        "a = dict()\n",
        "a = {}"
      ],
      "execution_count": 26,
      "outputs": []
    },
    {
      "cell_type": "code",
      "metadata": {
        "colab": {
          "base_uri": "https://localhost:8080/"
        },
        "id": "rz3jGiXX3cJi",
        "outputId": "d7a85e51-342d-4b75-92ee-316abdc3415d"
      },
      "source": [
        "a = {'key1':'value1', 'key2':'value2'}\n",
        "a"
      ],
      "execution_count": 27,
      "outputs": [
        {
          "output_type": "execute_result",
          "data": {
            "text/plain": [
              "{'key1': 'value1', 'key2': 'value2'}"
            ]
          },
          "metadata": {
            "tags": []
          },
          "execution_count": 27
        }
      ]
    },
    {
      "cell_type": "code",
      "metadata": {
        "colab": {
          "base_uri": "https://localhost:8080/"
        },
        "id": "EvASSAE33ehV",
        "outputId": "f0bdb5ce-7768-4acc-94e2-a7a8d5b62489"
      },
      "source": [
        "a['key3'] = 'value3'\n",
        "a"
      ],
      "execution_count": 28,
      "outputs": [
        {
          "output_type": "execute_result",
          "data": {
            "text/plain": [
              "{'key1': 'value1', 'key2': 'value2', 'key3': 'value3'}"
            ]
          },
          "metadata": {
            "tags": []
          },
          "execution_count": 28
        }
      ]
    },
    {
      "cell_type": "code",
      "metadata": {
        "colab": {
          "base_uri": "https://localhost:8080/",
          "height": 37
        },
        "id": "Bu7zGd2z3gyQ",
        "outputId": "a5d81128-bc8e-40b0-abcc-5295e3849564"
      },
      "source": [
        "a['key1']"
      ],
      "execution_count": 29,
      "outputs": [
        {
          "output_type": "execute_result",
          "data": {
            "application/vnd.google.colaboratory.intrinsic+json": {
              "type": "string"
            },
            "text/plain": [
              "'value1'"
            ]
          },
          "metadata": {
            "tags": []
          },
          "execution_count": 29
        }
      ]
    },
    {
      "cell_type": "code",
      "metadata": {
        "colab": {
          "base_uri": "https://localhost:8080/",
          "height": 164
        },
        "id": "QTzuBBPg3ifK",
        "outputId": "a3b226ff-79f9-4c59-8d1d-c32e95b8c758"
      },
      "source": [
        "a['key4']"
      ],
      "execution_count": 30,
      "outputs": [
        {
          "output_type": "error",
          "ename": "KeyError",
          "evalue": "ignored",
          "traceback": [
            "\u001b[0;31m---------------------------------------------------------------------------\u001b[0m",
            "\u001b[0;31mKeyError\u001b[0m                                  Traceback (most recent call last)",
            "\u001b[0;32m<ipython-input-30-91c1e5997b2c>\u001b[0m in \u001b[0;36m<module>\u001b[0;34m()\u001b[0m\n\u001b[0;32m----> 1\u001b[0;31m \u001b[0ma\u001b[0m\u001b[0;34m[\u001b[0m\u001b[0;34m'key4'\u001b[0m\u001b[0;34m]\u001b[0m\u001b[0;34m\u001b[0m\u001b[0;34m\u001b[0m\u001b[0m\n\u001b[0m",
            "\u001b[0;31mKeyError\u001b[0m: 'key4'"
          ]
        }
      ]
    },
    {
      "cell_type": "code",
      "metadata": {
        "colab": {
          "base_uri": "https://localhost:8080/"
        },
        "id": "uzo2dWKk3k4A",
        "outputId": "69fbc4fe-a81d-4867-e2c6-dfe904301004"
      },
      "source": [
        "try:\n",
        "    print(a['key4'])\n",
        "except KeyError:\n",
        "    print('존재하지 않는 키')"
      ],
      "execution_count": 32,
      "outputs": [
        {
          "output_type": "stream",
          "text": [
            "존재하지 않는 키\n"
          ],
          "name": "stdout"
        }
      ]
    },
    {
      "cell_type": "code",
      "metadata": {
        "colab": {
          "base_uri": "https://localhost:8080/",
          "height": 164
        },
        "id": "4hfCzGLI3nTi",
        "outputId": "939fded5-abc0-451b-bca4-cfb4d2d70563"
      },
      "source": [
        "del a['key4']"
      ],
      "execution_count": 33,
      "outputs": [
        {
          "output_type": "error",
          "ename": "KeyError",
          "evalue": "ignored",
          "traceback": [
            "\u001b[0;31m---------------------------------------------------------------------------\u001b[0m",
            "\u001b[0;31mKeyError\u001b[0m                                  Traceback (most recent call last)",
            "\u001b[0;32m<ipython-input-33-11c368e79f18>\u001b[0m in \u001b[0;36m<module>\u001b[0;34m()\u001b[0m\n\u001b[0;32m----> 1\u001b[0;31m \u001b[0;32mdel\u001b[0m \u001b[0ma\u001b[0m\u001b[0;34m[\u001b[0m\u001b[0;34m'key4'\u001b[0m\u001b[0;34m]\u001b[0m\u001b[0;34m\u001b[0m\u001b[0;34m\u001b[0m\u001b[0m\n\u001b[0m",
            "\u001b[0;31mKeyError\u001b[0m: 'key4'"
          ]
        }
      ]
    },
    {
      "cell_type": "code",
      "metadata": {
        "colab": {
          "base_uri": "https://localhost:8080/"
        },
        "id": "bTmkK6Vl3qKd",
        "outputId": "283c7487-44b0-482b-dd2b-b0ac552b203f"
      },
      "source": [
        "'key4' in a"
      ],
      "execution_count": 35,
      "outputs": [
        {
          "output_type": "execute_result",
          "data": {
            "text/plain": [
              "False"
            ]
          },
          "metadata": {
            "tags": []
          },
          "execution_count": 35
        }
      ]
    },
    {
      "cell_type": "code",
      "metadata": {
        "colab": {
          "base_uri": "https://localhost:8080/"
        },
        "id": "sWYV0UYu3sL4",
        "outputId": "8906d8ba-7dd6-4bd1-e6b8-fa36a8f83982"
      },
      "source": [
        "if 'key4' in a:\n",
        "    print('존재하는 키')\n",
        "else:\n",
        "    print('존재하지 않는 키')"
      ],
      "execution_count": 36,
      "outputs": [
        {
          "output_type": "stream",
          "text": [
            "존재하지 않는 키\n"
          ],
          "name": "stdout"
        }
      ]
    },
    {
      "cell_type": "code",
      "metadata": {
        "colab": {
          "base_uri": "https://localhost:8080/"
        },
        "id": "t3JeM9C43tso",
        "outputId": "661fa856-5184-4fda-9634-2571c7152d18"
      },
      "source": [
        "for k, v in a.items():\n",
        "    print(k, v)"
      ],
      "execution_count": 37,
      "outputs": [
        {
          "output_type": "stream",
          "text": [
            "key1 value1\n",
            "key2 value2\n",
            "key3 value3\n"
          ],
          "name": "stdout"
        }
      ]
    },
    {
      "cell_type": "code",
      "metadata": {
        "colab": {
          "base_uri": "https://localhost:8080/"
        },
        "id": "8MQJBN7S3vHL",
        "outputId": "442ed85f-d03f-4e22-cefc-9796a218f576"
      },
      "source": [
        "del a['key1']\n",
        "a"
      ],
      "execution_count": 38,
      "outputs": [
        {
          "output_type": "execute_result",
          "data": {
            "text/plain": [
              "{'key2': 'value2', 'key3': 'value3'}"
            ]
          },
          "metadata": {
            "tags": []
          },
          "execution_count": 38
        }
      ]
    },
    {
      "cell_type": "code",
      "metadata": {
        "id": "9JurXByp3wRH"
      },
      "source": [
        "from collections import defaultdict"
      ],
      "execution_count": 39,
      "outputs": []
    },
    {
      "cell_type": "code",
      "metadata": {
        "colab": {
          "base_uri": "https://localhost:8080/"
        },
        "id": "mLxiWurG3zgb",
        "outputId": "3e0e1ce5-3a1a-4876-afe8-f77f22800004"
      },
      "source": [
        "a = defaultdict(int)\n",
        "a['A'] = 5\n",
        "a['B'] = 4\n",
        "a"
      ],
      "execution_count": 40,
      "outputs": [
        {
          "output_type": "execute_result",
          "data": {
            "text/plain": [
              "defaultdict(int, {'A': 5, 'B': 4})"
            ]
          },
          "metadata": {
            "tags": []
          },
          "execution_count": 40
        }
      ]
    },
    {
      "cell_type": "code",
      "metadata": {
        "colab": {
          "base_uri": "https://localhost:8080/"
        },
        "id": "yqo2C7bl31IE",
        "outputId": "4cc4c85b-092b-47d9-ae55-da97c1ccebc3"
      },
      "source": [
        "a['C'] += 1\n",
        "a"
      ],
      "execution_count": 41,
      "outputs": [
        {
          "output_type": "execute_result",
          "data": {
            "text/plain": [
              "defaultdict(int, {'A': 5, 'B': 4, 'C': 1})"
            ]
          },
          "metadata": {
            "tags": []
          },
          "execution_count": 41
        }
      ]
    },
    {
      "cell_type": "code",
      "metadata": {
        "id": "0AVY1QhY33I5"
      },
      "source": [
        "from collections import Counter"
      ],
      "execution_count": 42,
      "outputs": []
    },
    {
      "cell_type": "code",
      "metadata": {
        "colab": {
          "base_uri": "https://localhost:8080/"
        },
        "id": "3JUbvvjn354R",
        "outputId": "c0ddece3-ddab-4288-833f-1a0942a09461"
      },
      "source": [
        "a = [1, 2, 3, 4, 5, 5, 5, 6, 6]\n",
        "b = Counter(a)\n",
        "b"
      ],
      "execution_count": 43,
      "outputs": [
        {
          "output_type": "execute_result",
          "data": {
            "text/plain": [
              "Counter({1: 1, 2: 1, 3: 1, 4: 1, 5: 3, 6: 2})"
            ]
          },
          "metadata": {
            "tags": []
          },
          "execution_count": 43
        }
      ]
    },
    {
      "cell_type": "code",
      "metadata": {
        "colab": {
          "base_uri": "https://localhost:8080/"
        },
        "id": "DW5YmUB037LK",
        "outputId": "3034b9cd-cd04-430e-9ebf-e1baf4bcdd5d"
      },
      "source": [
        "type(b)"
      ],
      "execution_count": 44,
      "outputs": [
        {
          "output_type": "execute_result",
          "data": {
            "text/plain": [
              "collections.Counter"
            ]
          },
          "metadata": {
            "tags": []
          },
          "execution_count": 44
        }
      ]
    },
    {
      "cell_type": "code",
      "metadata": {
        "colab": {
          "base_uri": "https://localhost:8080/"
        },
        "id": "kZRHNZp938w7",
        "outputId": "229d79b5-c97a-4f13-d9ee-02708b64f610"
      },
      "source": [
        "b.most_common(2)"
      ],
      "execution_count": 45,
      "outputs": [
        {
          "output_type": "execute_result",
          "data": {
            "text/plain": [
              "[(5, 3), (6, 2)]"
            ]
          },
          "metadata": {
            "tags": []
          },
          "execution_count": 45
        }
      ]
    },
    {
      "cell_type": "code",
      "metadata": {
        "id": "6yFeAb-739fd"
      },
      "source": [
        "from collections import OrderedDict"
      ],
      "execution_count": 46,
      "outputs": []
    },
    {
      "cell_type": "code",
      "metadata": {
        "colab": {
          "base_uri": "https://localhost:8080/"
        },
        "id": "QHSRGnGh3_ub",
        "outputId": "538f885c-a6ea-4ceb-a325-0ac25bd80d9a"
      },
      "source": [
        "OrderedDict({'banana':3, 'apple':4, 'pear':1, 'orange':2})"
      ],
      "execution_count": 47,
      "outputs": [
        {
          "output_type": "execute_result",
          "data": {
            "text/plain": [
              "OrderedDict([('banana', 3), ('apple', 4), ('pear', 1), ('orange', 2)])"
            ]
          },
          "metadata": {
            "tags": []
          },
          "execution_count": 47
        }
      ]
    },
    {
      "cell_type": "code",
      "metadata": {
        "colab": {
          "base_uri": "https://localhost:8080/"
        },
        "id": "KZ7fdxYE4BaP",
        "outputId": "eb6a2f57-19b9-48e2-93a0-24d45265ef6b"
      },
      "source": [
        "a = list()\n",
        "type(a)"
      ],
      "execution_count": 48,
      "outputs": [
        {
          "output_type": "execute_result",
          "data": {
            "text/plain": [
              "list"
            ]
          },
          "metadata": {
            "tags": []
          },
          "execution_count": 48
        }
      ]
    },
    {
      "cell_type": "code",
      "metadata": {
        "colab": {
          "base_uri": "https://localhost:8080/"
        },
        "id": "t8-ArPE24FC6",
        "outputId": "a5a168ee-51f3-450e-a423-1e3d658d4096"
      },
      "source": [
        "type([]) # 리스트"
      ],
      "execution_count": 49,
      "outputs": [
        {
          "output_type": "execute_result",
          "data": {
            "text/plain": [
              "list"
            ]
          },
          "metadata": {
            "tags": []
          },
          "execution_count": 49
        }
      ]
    },
    {
      "cell_type": "code",
      "metadata": {
        "colab": {
          "base_uri": "https://localhost:8080/"
        },
        "id": "sNBeZU7q4GYP",
        "outputId": "e0f5aceb-224b-41e6-a3c2-e34234d5e395"
      },
      "source": [
        "type(()) # 튜플"
      ],
      "execution_count": 50,
      "outputs": [
        {
          "output_type": "execute_result",
          "data": {
            "text/plain": [
              "tuple"
            ]
          },
          "metadata": {
            "tags": []
          },
          "execution_count": 50
        }
      ]
    },
    {
      "cell_type": "code",
      "metadata": {
        "colab": {
          "base_uri": "https://localhost:8080/"
        },
        "id": "NavwTCzI4JMN",
        "outputId": "6d1c186c-3438-4606-85d7-77c5698c0c57"
      },
      "source": [
        "type({}) # 딕셔너리"
      ],
      "execution_count": 51,
      "outputs": [
        {
          "output_type": "execute_result",
          "data": {
            "text/plain": [
              "dict"
            ]
          },
          "metadata": {
            "tags": []
          },
          "execution_count": 51
        }
      ]
    },
    {
      "cell_type": "code",
      "metadata": {
        "colab": {
          "base_uri": "https://localhost:8080/"
        },
        "id": "EmKvLpsN4LQf",
        "outputId": "a68608af-fb9b-4777-916d-89557b8f873e"
      },
      "source": [
        "type({1}) # 집합"
      ],
      "execution_count": 52,
      "outputs": [
        {
          "output_type": "execute_result",
          "data": {
            "text/plain": [
              "set"
            ]
          },
          "metadata": {
            "tags": []
          },
          "execution_count": 52
        }
      ]
    },
    {
      "cell_type": "markdown",
      "metadata": {
        "id": "gOqRWrGH4MIy"
      },
      "source": [
        "<h1>6장 문자열 조작</h1>"
      ]
    },
    {
      "cell_type": "code",
      "metadata": {
        "id": "l-DtichY4NoQ"
      },
      "source": [
        "def isPalindrome(self, s: str) -> bool:\n",
        "    strs = []\n",
        "    for char in s:\n",
        "        if char.isalnum():\n",
        "            strs.append(char.lower())\n",
        "            \n",
        "    # 팰린드롬 여부 판별\n",
        "    while len(strs) > 1:\n",
        "        if strs.pop(0) != strs.pop():\n",
        "            return False\n",
        "    return True"
      ],
      "execution_count": 53,
      "outputs": []
    },
    {
      "cell_type": "code",
      "metadata": {
        "colab": {
          "base_uri": "https://localhost:8080/"
        },
        "id": "IruIxMeI4QGj",
        "outputId": "9fdf2221-698c-447f-8689-451db293cf5f"
      },
      "source": [
        "a = isPalindrome(a, \"A man, a plan, a canal: Panama\")\n",
        "a"
      ],
      "execution_count": 54,
      "outputs": [
        {
          "output_type": "execute_result",
          "data": {
            "text/plain": [
              "True"
            ]
          },
          "metadata": {
            "tags": []
          },
          "execution_count": 54
        }
      ]
    },
    {
      "cell_type": "code",
      "metadata": {
        "colab": {
          "base_uri": "https://localhost:8080/"
        },
        "id": "4c3OROVJ4RlR",
        "outputId": "627dcdee-3b90-4dea-cbde-39e03a814c7c"
      },
      "source": [
        "b = isPalindrome(b, \"race a car\")\n",
        "b"
      ],
      "execution_count": 55,
      "outputs": [
        {
          "output_type": "execute_result",
          "data": {
            "text/plain": [
              "False"
            ]
          },
          "metadata": {
            "tags": []
          },
          "execution_count": 55
        }
      ]
    },
    {
      "cell_type": "code",
      "metadata": {
        "id": "3UZu0K8o4czm"
      },
      "source": [
        "import collections"
      ],
      "execution_count": 56,
      "outputs": []
    },
    {
      "cell_type": "code",
      "metadata": {
        "id": "Wz9IMVjQ4dYN"
      },
      "source": [
        "def isPalindrome(self, s: str) -> bool:\n",
        "    #자료형 데크로 선언\n",
        "    strs: Deque = collections.deque()\n",
        "        \n",
        "    for char in s:\n",
        "        if char.isalnum():\n",
        "            strs.append(char.lower())\n",
        "            \n",
        "    while len(strs) > 1:\n",
        "        if strs.popleft() != strs.pop():\n",
        "            return False\n",
        "    return True"
      ],
      "execution_count": 57,
      "outputs": []
    },
    {
      "cell_type": "code",
      "metadata": {
        "colab": {
          "base_uri": "https://localhost:8080/"
        },
        "id": "vKFWRtDt4fKm",
        "outputId": "4d4d39bc-0c40-47d1-82f9-99a6b2ac2c19"
      },
      "source": [
        "a = isPalindrome(a, \"A man, a plan, a canal: Panama\")\n",
        "a"
      ],
      "execution_count": 58,
      "outputs": [
        {
          "output_type": "execute_result",
          "data": {
            "text/plain": [
              "True"
            ]
          },
          "metadata": {
            "tags": []
          },
          "execution_count": 58
        }
      ]
    },
    {
      "cell_type": "code",
      "metadata": {
        "colab": {
          "base_uri": "https://localhost:8080/"
        },
        "id": "0UruzDal4g-S",
        "outputId": "08c5729e-fa3e-4926-fb06-bdda4a504382"
      },
      "source": [
        "b = isPalindrome(b, \"race a car\")\n",
        "b"
      ],
      "execution_count": 59,
      "outputs": [
        {
          "output_type": "execute_result",
          "data": {
            "text/plain": [
              "False"
            ]
          },
          "metadata": {
            "tags": []
          },
          "execution_count": 59
        }
      ]
    },
    {
      "cell_type": "code",
      "metadata": {
        "id": "pATFqbOh4iU_"
      },
      "source": [
        "import re"
      ],
      "execution_count": 60,
      "outputs": []
    },
    {
      "cell_type": "code",
      "metadata": {
        "id": "AMmbolGu4kub"
      },
      "source": [
        "def isPalindrome(self, s: str) -> bool:\n",
        "    s = s.lower()\n",
        "    s = re.sub('[^a-z0-9]', '', s)\n",
        "    \n",
        "    return s == s[::-1]"
      ],
      "execution_count": 61,
      "outputs": []
    },
    {
      "cell_type": "code",
      "metadata": {
        "colab": {
          "base_uri": "https://localhost:8080/"
        },
        "id": "8oc4XwHJ4ou0",
        "outputId": "46ca548f-904d-44d2-ae01-b2dfb097516f"
      },
      "source": [
        "a = isPalindrome(a, \"A man, a plan, a canal: Panama\")\n",
        "a"
      ],
      "execution_count": 62,
      "outputs": [
        {
          "output_type": "execute_result",
          "data": {
            "text/plain": [
              "True"
            ]
          },
          "metadata": {
            "tags": []
          },
          "execution_count": 62
        }
      ]
    },
    {
      "cell_type": "code",
      "metadata": {
        "colab": {
          "base_uri": "https://localhost:8080/"
        },
        "id": "9TCo2jwV4qRh",
        "outputId": "83d1f6f7-304e-47f3-c173-ff29cfe8b5b4"
      },
      "source": [
        "b = isPalindrome(b, \"race a car\")\n",
        "b"
      ],
      "execution_count": 63,
      "outputs": [
        {
          "output_type": "execute_result",
          "data": {
            "text/plain": [
              "False"
            ]
          },
          "metadata": {
            "tags": []
          },
          "execution_count": 63
        }
      ]
    },
    {
      "cell_type": "code",
      "metadata": {
        "id": "ulc3k4TI4rHw"
      },
      "source": [
        "from typing import List"
      ],
      "execution_count": 64,
      "outputs": []
    },
    {
      "cell_type": "code",
      "metadata": {
        "id": "HPkJhc2r4s79"
      },
      "source": [
        "def reverseString(self, s:List[str]) -> None:\n",
        "    left, right = 0, len(s) - 1\n",
        "    while left < right:\n",
        "        s[left], s[right] = s[right], s[left]\n",
        "        left += 1\n",
        "        right -= 1"
      ],
      "execution_count": 65,
      "outputs": []
    },
    {
      "cell_type": "code",
      "metadata": {
        "id": "K3oQlUMi4uq3"
      },
      "source": [
        "def reverseString(self, s:List[str]) -> None:\n",
        "    s.reverse()"
      ],
      "execution_count": 66,
      "outputs": []
    },
    {
      "cell_type": "code",
      "metadata": {
        "id": "r9cjCCao4wcy"
      },
      "source": [
        "def reorderLogFiles(self, logs: List[str]) -> List[str]:\n",
        "    letters, digits = [], []\n",
        "    for log in logs:\n",
        "        if log.split()[1].isdigit():\n",
        "            digits.append(log)\n",
        "        else:\n",
        "            letters.append(log)\n",
        "            \n",
        "    # 2개의 키를 람다 표현식으로 정렬\n",
        "    letters.sort(key = lambda x: (x.split()[1:], x.split()[0]))\n",
        "    return letters + digits"
      ],
      "execution_count": 67,
      "outputs": []
    },
    {
      "cell_type": "code",
      "metadata": {
        "id": "U0GtbgE64zgL"
      },
      "source": [
        "def mostCommonWord(self, paragraph: str, banned:List[str]) -> str:\n",
        "    words = [word for word in re.sub(r'[^/w]', ' ', paragraph).lower().split()\n",
        "                                     if word not in banned]\n",
        "    counts = collections.Counter(words)\n",
        "    # 가장 흔하게 등장하는 단어의 첫 번째 인덱스 리턴\n",
        "    return counts.most_common(1)[0][0]"
      ],
      "execution_count": 68,
      "outputs": []
    },
    {
      "cell_type": "code",
      "metadata": {
        "id": "cpJbOpiS41M8"
      },
      "source": [
        "def groupAnagrams(self, strs:List[str]) -> List[List[str]]:\n",
        "    anagrams = collections.defaultdict(list)\n",
        "    \n",
        "    for word in strs:\n",
        "        # 정렬하여 딕셔너리에 추가\n",
        "        anagrams[''.join(sorted(word))].append(word)\n",
        "    return anagrams.values()"
      ],
      "execution_count": 69,
      "outputs": []
    },
    {
      "cell_type": "code",
      "metadata": {
        "colab": {
          "base_uri": "https://localhost:8080/"
        },
        "id": "4cHf8lS842z9",
        "outputId": "95bb7013-0450-4426-ad93-e969c007bcc8"
      },
      "source": [
        "a = [2, 5, 1, 9, 7]\n",
        "sorted(a)"
      ],
      "execution_count": 70,
      "outputs": [
        {
          "output_type": "execute_result",
          "data": {
            "text/plain": [
              "[1, 2, 5, 7, 9]"
            ]
          },
          "metadata": {
            "tags": []
          },
          "execution_count": 70
        }
      ]
    },
    {
      "cell_type": "code",
      "metadata": {
        "colab": {
          "base_uri": "https://localhost:8080/"
        },
        "id": "gZihoLkI45F3",
        "outputId": "1a7e073b-19fb-46fb-9f21-f5d9f52c67f4"
      },
      "source": [
        "b = 'zbdaf'\n",
        "sorted(b)"
      ],
      "execution_count": 71,
      "outputs": [
        {
          "output_type": "execute_result",
          "data": {
            "text/plain": [
              "['a', 'b', 'd', 'f', 'z']"
            ]
          },
          "metadata": {
            "tags": []
          },
          "execution_count": 71
        }
      ]
    },
    {
      "cell_type": "code",
      "metadata": {
        "colab": {
          "base_uri": "https://localhost:8080/",
          "height": 37
        },
        "id": "M-vyo7Hd46fL",
        "outputId": "6e98f9b8-c9fc-4abb-fba1-9ab8a92d5413"
      },
      "source": [
        "b = 'zbdaf'\n",
        "\"\".join(sorted(b))"
      ],
      "execution_count": 72,
      "outputs": [
        {
          "output_type": "execute_result",
          "data": {
            "application/vnd.google.colaboratory.intrinsic+json": {
              "type": "string"
            },
            "text/plain": [
              "'abdfz'"
            ]
          },
          "metadata": {
            "tags": []
          },
          "execution_count": 72
        }
      ]
    },
    {
      "cell_type": "code",
      "metadata": {
        "colab": {
          "base_uri": "https://localhost:8080/"
        },
        "id": "-RqteDdG486J",
        "outputId": "15f61c80-f85a-4cae-d81c-eace54b29eaf"
      },
      "source": [
        "c = ['ccc', 'aaaa', 'd', 'bb']\n",
        "sorted(c, key = len)"
      ],
      "execution_count": 73,
      "outputs": [
        {
          "output_type": "execute_result",
          "data": {
            "text/plain": [
              "['d', 'bb', 'ccc', 'aaaa']"
            ]
          },
          "metadata": {
            "tags": []
          },
          "execution_count": 73
        }
      ]
    },
    {
      "cell_type": "code",
      "metadata": {
        "colab": {
          "base_uri": "https://localhost:8080/"
        },
        "id": "LpKJnC5s49gM",
        "outputId": "665d77ae-1d43-43d2-ec06-30a10614df06"
      },
      "source": [
        "a = ['cde', 'cfc', 'abc']\n",
        "\n",
        "def fn(s):\n",
        "    return s[0], s[-1]\n",
        "\n",
        "print(sorted(a, key = fn))"
      ],
      "execution_count": 74,
      "outputs": [
        {
          "output_type": "stream",
          "text": [
            "['abc', 'cfc', 'cde']\n"
          ],
          "name": "stdout"
        }
      ]
    },
    {
      "cell_type": "code",
      "metadata": {
        "colab": {
          "base_uri": "https://localhost:8080/"
        },
        "id": "yHuB-X7Y4__P",
        "outputId": "f033b417-e702-43a4-c3d2-2443dbd63a31"
      },
      "source": [
        "a = ['cde', 'cfc', 'abc']\n",
        "sorted(a, key = lambda s: (s[0], s[-1]))"
      ],
      "execution_count": 75,
      "outputs": [
        {
          "output_type": "execute_result",
          "data": {
            "text/plain": [
              "['abc', 'cfc', 'cde']"
            ]
          },
          "metadata": {
            "tags": []
          },
          "execution_count": 75
        }
      ]
    },
    {
      "cell_type": "code",
      "metadata": {
        "id": "xiTamXYH5Ctl"
      },
      "source": [
        "def longestPalindrome(self, s: str) -> str:\n",
        "    def expand(left: int, right: int) -> str:\n",
        "        while left >= 0 and right <= len(s) and s[left] == s[right - 1]:\n",
        "            left -= 1\n",
        "            right += 1\n",
        "        return s[left + 1:right -1]\n",
        "    \n",
        "    if len(s) < 2 or s == s[::-1]:\n",
        "        return s\n",
        "    result = ''\n",
        "    \n",
        "    for i in range(len(s) - 1):\n",
        "        result = max(result,\n",
        "                      expand(i, i + 1),\n",
        "                      expand(i, i + 2),\n",
        "                      key = len)\n",
        "    return result"
      ],
      "execution_count": 76,
      "outputs": []
    },
    {
      "cell_type": "markdown",
      "metadata": {
        "id": "W5F6KCip6XzX"
      },
      "source": [
        "<h1>7장 배열</h1>"
      ]
    },
    {
      "cell_type": "code",
      "metadata": {
        "id": "8mAKekIO5E2V"
      },
      "source": [
        "def twoSum(self, nums: List[int], target: int) -> List[int]:\n",
        "    for i in range(len(nums)):\n",
        "        for j in range(i + 1, len(nums)):\n",
        "            if nums[i] + nums[j] == target:\n",
        "                return [ i, j]"
      ],
      "execution_count": 77,
      "outputs": []
    },
    {
      "cell_type": "code",
      "metadata": {
        "id": "AP6N6d-E5Gm8"
      },
      "source": [
        "def twoSum(self, nums: List[int], target: int) -> List[int]:\n",
        "    for i, n in enumerate(nums):\n",
        "        complement = target - n\n",
        "        \n",
        "        if complement in nums[i + 1:]:\n",
        "            return nums.index(n), nums[i + 1:].index(complement) + (i + 1)"
      ],
      "execution_count": 78,
      "outputs": []
    },
    {
      "cell_type": "code",
      "metadata": {
        "id": "Jl1HaOfi5H-y"
      },
      "source": [
        "def twoSum(self, nums: List[int], target: int) -> List[int]:\n",
        "    nums_map = {}\n",
        "    \n",
        "    for i, num in enumerate(nums):\n",
        "        num_map[num] = i\n",
        "        \n",
        "    for i, num in enumerate(nums):\n",
        "        if target - num in nums_map and i != nums_map[target - num]:\n",
        "            return nums.index(num), nums_map[target - num]"
      ],
      "execution_count": 79,
      "outputs": []
    },
    {
      "cell_type": "code",
      "metadata": {
        "id": "0v6hTQ_05J_X"
      },
      "source": [
        "def twoSum(self, nums: List[int], target: int) -> List[int]:\n",
        "    nums_map = {}\n",
        "    \n",
        "    for i, num in enumerate(nums):\n",
        "        if target - num in nums_map:\n",
        "            return [nums_map[target - num], i]\n",
        "        nums_map[num] = i"
      ],
      "execution_count": 80,
      "outputs": []
    },
    {
      "cell_type": "code",
      "metadata": {
        "id": "8Brug5b_5Lk1"
      },
      "source": [
        "def twoSum(self, nums: List[int], target: int) -> List[int]:\n",
        "    left, right = 0, len(nums) - 1\n",
        "    while not left == right:\n",
        "        if nums[left] + nums[right] < target:\n",
        "            left += 1\n",
        "        elif nums[left] + nums[right] > target:\n",
        "            right -= 1\n",
        "        else:\n",
        "            return left, right"
      ],
      "execution_count": 81,
      "outputs": []
    },
    {
      "cell_type": "code",
      "metadata": {
        "id": "qBc-b8P85Rzb"
      },
      "source": [
        "def trap(self, height: List[int]) -> int:\n",
        "    if not height:\n",
        "        return 0\n",
        "    volume = 0\n",
        "    left, right = 0, len(height) - 1\n",
        "    left_max, right_max = height[left], height[right]\n",
        "    \n",
        "    while left < right:\n",
        "        left_max, right_max = max(height[left], left_max), max(height[right], right_max)\n",
        "            \n",
        "        if left_max <= right_max:\n",
        "            volume += left_max - height[left]\n",
        "            left += 1\n",
        "        else:\n",
        "            volume += right_max - height[right]\n",
        "            right -= 1\n",
        "    return volume"
      ],
      "execution_count": 95,
      "outputs": []
    },
    {
      "cell_type": "code",
      "metadata": {
        "id": "f-BwKuy05UKz"
      },
      "source": [
        "def trap(self, height: List[int]) -> int:\n",
        "    stack = []\n",
        "    volume = 0\n",
        "    \n",
        "    for i in range(len(height)):\n",
        "        while stack and height[i] > height[stack[-1]]:\n",
        "            top = stack.pop()\n",
        "            \n",
        "            if not len(stack):\n",
        "                break\n",
        "                \n",
        "            distace = i - stack[-1] - 1\n",
        "            waters = min(height[i], height[stack[-1]]) - height[top]\n",
        "            \n",
        "            volume += distance * waters\n",
        "            \n",
        "        stack.append(i)\n",
        "    return volume"
      ],
      "execution_count": 96,
      "outputs": []
    },
    {
      "cell_type": "code",
      "metadata": {
        "id": "ywbiEdru5WDk"
      },
      "source": [
        "def threeSum(self, nums: List[int]) -> List[List[int]]:\n",
        "    results = []\n",
        "    nums.sort()\n",
        "    \n",
        "    for i in range(len(nums) - 2):\n",
        "        if i > 0 and nums[i] == nums[ i - 1]:\n",
        "            continue\n",
        "        for j in range( i + 1, len(nums) - 1):\n",
        "            if j > i + 1 and nums[j] == nums[j-1]:\n",
        "                continue\n",
        "            for k in range( j + 1, len(nums)):\n",
        "                if k > j + 1 and nums[k] == nums[k-1]:\n",
        "                    continue\n",
        "                if nums[i] + nums[j] + nums[k] == 0:\n",
        "                    results.append((nums[i], nums[j], nums[k]))\n",
        "                    \n",
        "    return results"
      ],
      "execution_count": 97,
      "outputs": []
    },
    {
      "cell_type": "code",
      "metadata": {
        "id": "BxMvAYm25Yi8"
      },
      "source": [
        "def threeSum(self, nums: List[int]) -> List[List[int]]:\n",
        "    results = []\n",
        "    nums.sort()\n",
        "    \n",
        "    for i in range(len(nums) - 2):\n",
        "        if i > 0 and nums[i] == nums[i-1]:\n",
        "            continue\n",
        "            \n",
        "        left, right = i + 1, len(nums) - 1\n",
        "        while left < right:\n",
        "            sum = nums[i] + nums[left] + nums[right]\n",
        "            if sum < 0:\n",
        "                left += 1\n",
        "            elif sum > 0:\n",
        "                right -= 1\n",
        "            else:\n",
        "                results.append((nums[i], nums[left], nums[right]))\n",
        "                \n",
        "                while left < right and nums[left] == nims [left + 1]:\n",
        "                    left += 1\n",
        "                while left < right and nums[right] == nims [right - 1]:\n",
        "                    right -= 1\n",
        "                left += 1\n",
        "                right -= 1\n",
        "    return results"
      ],
      "execution_count": 98,
      "outputs": []
    },
    {
      "cell_type": "code",
      "metadata": {
        "id": "nGyte3f75aYk"
      },
      "source": [
        "def arrayPairSum(self, nums:List[int]) -> int:\n",
        "    sum = 0\n",
        "    pair = []\n",
        "    nums.sort()\n",
        "    \n",
        "    \n",
        "    for n in nums:\n",
        "        pair.append(n)\n",
        "        if len(pair) == 2:\n",
        "            sum += min(pair)\n",
        "            pair = []\n",
        "            \n",
        "    return sum"
      ],
      "execution_count": 99,
      "outputs": []
    },
    {
      "cell_type": "code",
      "metadata": {
        "id": "1N-StHNE5cFy"
      },
      "source": [
        "def arrayPairSum(self, nums:List[int]) -> int:\n",
        "    sum = 0\n",
        "    nums.sort()\n",
        "    \n",
        "    for i, n in enumerate(nums):\n",
        "        if i % 2 == 0:\n",
        "            sum += n\n",
        "    return sum"
      ],
      "execution_count": 100,
      "outputs": []
    },
    {
      "cell_type": "code",
      "metadata": {
        "id": "n1XsUbDb5dBn"
      },
      "source": [
        "def arrayPairSum(self, nums: List[int]) -> int:\n",
        "    return sum(sorted(nums)[::2])"
      ],
      "execution_count": 101,
      "outputs": []
    },
    {
      "cell_type": "code",
      "metadata": {
        "id": "SlUigfjE5gQr"
      },
      "source": [
        "def productExceptSelf(self, nums: List[int]) -> List[int]:\n",
        "    out = []\n",
        "    p = 1\n",
        "\n",
        "    for i in range(0, len(nums)):\n",
        "        out.append(p)\n",
        "        p = p * nums[i]\n",
        "    p = 1\n",
        "\n",
        "    for i in range(len(nums) -1, 0 - 1, -1):\n",
        "        out[i] = out[i] * p\n",
        "        p = p *nums[i]\n",
        "    return out"
      ],
      "execution_count": 102,
      "outputs": []
    },
    {
      "cell_type": "code",
      "metadata": {
        "id": "iJ232aY25h54"
      },
      "source": [
        "def maxProfit(self, prices:List[int]) -> int:\n",
        "    max_price = 0\n",
        "    \n",
        "    for i, price in enumerate(prices):\n",
        "        for j in range(i, lenn(prices)):\n",
        "            max_price = max(prices[j] - price, max_price)\n",
        "            \n",
        "    return max_price"
      ],
      "execution_count": 103,
      "outputs": []
    },
    {
      "cell_type": "code",
      "metadata": {
        "id": "Dd0tIh-n5jk3"
      },
      "source": [
        "def maxProfit(self, prices:List[int]) -> int:\n",
        "    profit = 0\n",
        "    min_price = sys.maxsize\n",
        "    \n",
        "    for price in prices:\n",
        "        min_price = min(min_price, price)\n",
        "        profit = max(profit, price - min_price)\n",
        "        \n",
        "    return profit"
      ],
      "execution_count": 104,
      "outputs": []
    }
  ]
}