{
  "nbformat": 4,
  "nbformat_minor": 0,
  "metadata": {
    "colab": {
      "name": "week07.ipynb",
      "provenance": [],
      "authorship_tag": "ABX9TyMcvNj7ATQslEpi7/rzYdsU",
      "include_colab_link": true
    },
    "kernelspec": {
      "name": "python3",
      "display_name": "Python 3"
    },
    "language_info": {
      "name": "python"
    }
  },
  "cells": [
    {
      "cell_type": "markdown",
      "metadata": {
        "id": "view-in-github",
        "colab_type": "text"
      },
      "source": [
        "<a href=\"https://colab.research.google.com/github/huihui9230/Dalc_CodingTest/blob/hyeonseo/week07.ipynb\" target=\"_parent\"><img src=\"https://colab.research.google.com/assets/colab-badge.svg\" alt=\"Open In Colab\"/></a>"
      ]
    },
    {
      "cell_type": "markdown",
      "metadata": {
        "id": "1PKxOsPpCqR_"
      },
      "source": [
        "<h1>Q28. 해시맵 디자인</h1>"
      ]
    },
    {
      "cell_type": "code",
      "metadata": {
        "id": "yxiRg0HUBTQN"
      },
      "source": [
        "class MyHashMap:\n",
        "\n",
        "  # init\n",
        "  def __init__(self):\n",
        "    self.size = 1000\n",
        "    self.table = collections.defaultdict(ListNode)\n",
        "\n",
        "  # insert\n",
        "  def put(self, key: int, value: int) -> None:\n",
        "    index = key % self.size\n",
        "\n",
        "    if self.table[index].value is None:\n",
        "      self.table[index] = ListNode(key, value)\n",
        "      return\n",
        "\n",
        "    p = self.table[index]\n",
        "    while p:\n",
        "      if p.key == key:\n",
        "        p.value = value\n",
        "        return\n",
        "      if p.next is None:\n",
        "        break\n",
        "      p = p.next\n",
        "    p.next = ListNode(key, value)\n",
        "\n",
        "  # search\n",
        "  def get(self, key:int) -> int:\n",
        "    index = key % self.size\n",
        "    if self.table[index].value is None:\n",
        "      return -1\n",
        "\n",
        "      # 노드가 존재할 때 일치하는 키 탐색\n",
        "      p = self.table[index]\n",
        "      while p:\n",
        "        if p.key == key:\n",
        "          return p.value\n",
        "        p = p.next\n",
        "      return -1\n",
        "\n",
        "  # delete\n",
        "  def remove(self, key:int) -> None:\n",
        "    index = key % self.size\n",
        "    if self.table[index].value is None:\n",
        "      return \n",
        "\n",
        "    # 인덱스의 첫 번째 노드일 때 삭제 처리\n",
        "    p = self.table[index]\n",
        "    if p.key == key:\n",
        "      self.table[index] = ListNode() if p.next is None else p.next\n",
        "      return\n",
        "\n",
        "    # 연결 리스트 노드 삭제\n",
        "    prev = p\n",
        "    while p:\n",
        "      if p.key == key:\n",
        "        prev.next = p.next\n",
        "        return\n",
        "      prev, p = p, p.next\n"
      ],
      "execution_count": null,
      "outputs": []
    },
    {
      "cell_type": "markdown",
      "metadata": {
        "id": "J0Cl8w22FZLQ"
      },
      "source": [
        "<h1>Q29. 보석과 돌</h1>"
      ]
    },
    {
      "cell_type": "code",
      "metadata": {
        "id": "hL1C0SlHFdOT"
      },
      "source": [
        "def numJewelsInStones(self, J: str, S: str) -> int:\n",
        "  freqs = {}\n",
        "  count = 0\n",
        "\n",
        "  # 돌(S)의 빈도 수 계산\n",
        "  for char in S:\n",
        "    if char not in freqs:\n",
        "      freqs[char] = 1\n",
        "    else: \n",
        "      freqs[char] += 1\n",
        "\n",
        "  # 보석(J)의 빈도 수 합산\n",
        "  for char in J:\n",
        "    if char in freqs:\n",
        "      count += freqs[char]\n",
        "\n",
        "  return count\n"
      ],
      "execution_count": null,
      "outputs": []
    },
    {
      "cell_type": "markdown",
      "metadata": {
        "id": "bKFTICj6LCHU"
      },
      "source": [
        "<h1>Q30. 중복 문자 없는 가장 긴 부분 문자열 </h1>"
      ]
    },
    {
      "cell_type": "code",
      "metadata": {
        "id": "jEVs_U11LJGK"
      },
      "source": [
        "def lengthOfLongestSubstring(self, s: str) -> int:\n",
        "  used = {}\n",
        "  max_length = start = 0\n",
        "  for index, char in enumerate(s):\n",
        "    # 이미 등장했던 문자라면 'start' 위치 갱신\n",
        "    if char in used and start <= used[char]:\n",
        "      start = used[char] + 1\n",
        "    else:  # 최대 부분 문자열 길이 갱신\n",
        "      max_length = max(max_length, index - start + 1)\n",
        "\n",
        "    # 현재 문자의 위치 삽입\n",
        "    used[char] = index\n",
        "\n",
        "  return max_length"
      ],
      "execution_count": null,
      "outputs": []
    }
  ]
}